{
 "cells": [
  {
   "cell_type": "code",
   "execution_count": 2,
   "metadata": {},
   "outputs": [
    {
     "data": {
      "text/html": [
       "<div>\n",
       "<style scoped>\n",
       "    .dataframe tbody tr th:only-of-type {\n",
       "        vertical-align: middle;\n",
       "    }\n",
       "\n",
       "    .dataframe tbody tr th {\n",
       "        vertical-align: top;\n",
       "    }\n",
       "\n",
       "    .dataframe thead th {\n",
       "        text-align: right;\n",
       "    }\n",
       "</style>\n",
       "<table border=\"1\" class=\"dataframe\">\n",
       "  <thead>\n",
       "    <tr style=\"text-align: right;\">\n",
       "      <th></th>\n",
       "      <th>year</th>\n",
       "      <th>state</th>\n",
       "      <th>state_abbrev</th>\n",
       "      <th>GDP</th>\n",
       "      <th>homeownership(%)</th>\n",
       "      <th>unemployment_rate</th>\n",
       "      <th>population(thousands)</th>\n",
       "      <th>median income</th>\n",
       "      <th>avg house data</th>\n",
       "    </tr>\n",
       "  </thead>\n",
       "  <tbody>\n",
       "    <tr>\n",
       "      <th>0</th>\n",
       "      <td>1997</td>\n",
       "      <td>Alabama</td>\n",
       "      <td>AL</td>\n",
       "      <td>143646</td>\n",
       "      <td>71.3</td>\n",
       "      <td>5.0</td>\n",
       "      <td>4320</td>\n",
       "      <td>49983</td>\n",
       "      <td>191.43</td>\n",
       "    </tr>\n",
       "    <tr>\n",
       "      <th>1</th>\n",
       "      <td>1998</td>\n",
       "      <td>Alabama</td>\n",
       "      <td>AL</td>\n",
       "      <td>148596</td>\n",
       "      <td>72.9</td>\n",
       "      <td>4.4</td>\n",
       "      <td>4351</td>\n",
       "      <td>55997</td>\n",
       "      <td>201.27</td>\n",
       "    </tr>\n",
       "    <tr>\n",
       "      <th>2</th>\n",
       "      <td>1999</td>\n",
       "      <td>Alabama</td>\n",
       "      <td>AL</td>\n",
       "      <td>154094</td>\n",
       "      <td>74.8</td>\n",
       "      <td>4.7</td>\n",
       "      <td>4370</td>\n",
       "      <td>54806</td>\n",
       "      <td>206.43</td>\n",
       "    </tr>\n",
       "    <tr>\n",
       "      <th>3</th>\n",
       "      <td>2000</td>\n",
       "      <td>Alabama</td>\n",
       "      <td>AL</td>\n",
       "      <td>156560</td>\n",
       "      <td>73.2</td>\n",
       "      <td>4.6</td>\n",
       "      <td>4452</td>\n",
       "      <td>49989</td>\n",
       "      <td>211.62</td>\n",
       "    </tr>\n",
       "    <tr>\n",
       "      <th>4</th>\n",
       "      <td>2001</td>\n",
       "      <td>Alabama</td>\n",
       "      <td>AL</td>\n",
       "      <td>156404</td>\n",
       "      <td>73.2</td>\n",
       "      <td>5.1</td>\n",
       "      <td>4468</td>\n",
       "      <td>51798</td>\n",
       "      <td>223.33</td>\n",
       "    </tr>\n",
       "  </tbody>\n",
       "</table>\n",
       "</div>"
      ],
      "text/plain": [
       "   year    state state_abbrev     GDP  homeownership(%)  unemployment_rate  \\\n",
       "0  1997  Alabama           AL  143646              71.3                5.0   \n",
       "1  1998  Alabama           AL  148596              72.9                4.4   \n",
       "2  1999  Alabama           AL  154094              74.8                4.7   \n",
       "3  2000  Alabama           AL  156560              73.2                4.6   \n",
       "4  2001  Alabama           AL  156404              73.2                5.1   \n",
       "\n",
       "   population(thousands)  median income  avg house data  \n",
       "0                   4320          49983          191.43  \n",
       "1                   4351          55997          201.27  \n",
       "2                   4370          54806          206.43  \n",
       "3                   4452          49989          211.62  \n",
       "4                   4468          51798          223.33  "
      ]
     },
     "execution_count": 2,
     "metadata": {},
     "output_type": "execute_result"
    }
   ],
   "source": [
    "import numpy as np\n",
    "import matplotlib.pyplot as plt\n",
    "import pandas as pd\n",
    "from scipy import stats\n",
    "csv = pd.read_csv('Resources/Project1_dataset.csv')\n",
    "\n",
    "csv.head()"
   ]
  },
  {
   "cell_type": "code",
   "execution_count": 3,
   "metadata": {},
   "outputs": [
    {
     "data": {
      "text/html": [
       "<div>\n",
       "<style scoped>\n",
       "    .dataframe tbody tr th:only-of-type {\n",
       "        vertical-align: middle;\n",
       "    }\n",
       "\n",
       "    .dataframe tbody tr th {\n",
       "        vertical-align: top;\n",
       "    }\n",
       "\n",
       "    .dataframe thead th {\n",
       "        text-align: right;\n",
       "    }\n",
       "</style>\n",
       "<table border=\"1\" class=\"dataframe\">\n",
       "  <thead>\n",
       "    <tr style=\"text-align: right;\">\n",
       "      <th>state</th>\n",
       "      <th>Alabama</th>\n",
       "      <th>Alaska</th>\n",
       "      <th>Arizona</th>\n",
       "      <th>Arkansas</th>\n",
       "      <th>California</th>\n",
       "      <th>Colorado</th>\n",
       "      <th>Connecticut</th>\n",
       "      <th>Delaware</th>\n",
       "      <th>Florida</th>\n",
       "      <th>Georgia</th>\n",
       "      <th>...</th>\n",
       "      <th>South Dakota</th>\n",
       "      <th>Tennesse</th>\n",
       "      <th>Texas</th>\n",
       "      <th>Utah</th>\n",
       "      <th>Vermont</th>\n",
       "      <th>Virginia</th>\n",
       "      <th>Washington</th>\n",
       "      <th>West Virginia</th>\n",
       "      <th>Wisconsin</th>\n",
       "      <th>Wyoming</th>\n",
       "    </tr>\n",
       "    <tr>\n",
       "      <th>year</th>\n",
       "      <th></th>\n",
       "      <th></th>\n",
       "      <th></th>\n",
       "      <th></th>\n",
       "      <th></th>\n",
       "      <th></th>\n",
       "      <th></th>\n",
       "      <th></th>\n",
       "      <th></th>\n",
       "      <th></th>\n",
       "      <th></th>\n",
       "      <th></th>\n",
       "      <th></th>\n",
       "      <th></th>\n",
       "      <th></th>\n",
       "      <th></th>\n",
       "      <th></th>\n",
       "      <th></th>\n",
       "      <th></th>\n",
       "      <th></th>\n",
       "      <th></th>\n",
       "    </tr>\n",
       "  </thead>\n",
       "  <tbody>\n",
       "    <tr>\n",
       "      <th>1997</th>\n",
       "      <td>143646</td>\n",
       "      <td>42262</td>\n",
       "      <td>168551</td>\n",
       "      <td>82756</td>\n",
       "      <td>1378654</td>\n",
       "      <td>184193</td>\n",
       "      <td>190791</td>\n",
       "      <td>45231</td>\n",
       "      <td>560888</td>\n",
       "      <td>328995</td>\n",
       "      <td>...</td>\n",
       "      <td>24976</td>\n",
       "      <td>210844</td>\n",
       "      <td>872763</td>\n",
       "      <td>57700</td>\n",
       "      <td>15415</td>\n",
       "      <td>217252</td>\n",
       "      <td>193898</td>\n",
       "      <td>38840</td>\n",
       "      <td>153241</td>\n",
       "      <td>14724</td>\n",
       "    </tr>\n",
       "    <tr>\n",
       "      <th>1998</th>\n",
       "      <td>148596</td>\n",
       "      <td>41157</td>\n",
       "      <td>183138</td>\n",
       "      <td>84795</td>\n",
       "      <td>1470393</td>\n",
       "      <td>201076</td>\n",
       "      <td>196248</td>\n",
       "      <td>49743</td>\n",
       "      <td>590135</td>\n",
       "      <td>352713</td>\n",
       "      <td>...</td>\n",
       "      <td>26452</td>\n",
       "      <td>223769</td>\n",
       "      <td>928374</td>\n",
       "      <td>62291</td>\n",
       "      <td>16073</td>\n",
       "      <td>233096</td>\n",
       "      <td>210205</td>\n",
       "      <td>40086</td>\n",
       "      <td>162523</td>\n",
       "      <td>14928</td>\n",
       "    </tr>\n",
       "    <tr>\n",
       "      <th>1999</th>\n",
       "      <td>154094</td>\n",
       "      <td>40722</td>\n",
       "      <td>198096</td>\n",
       "      <td>89317</td>\n",
       "      <td>1582377</td>\n",
       "      <td>216300</td>\n",
       "      <td>202230</td>\n",
       "      <td>53862</td>\n",
       "      <td>616625</td>\n",
       "      <td>377608</td>\n",
       "      <td>...</td>\n",
       "      <td>27501</td>\n",
       "      <td>230418</td>\n",
       "      <td>965677</td>\n",
       "      <td>66023</td>\n",
       "      <td>17159</td>\n",
       "      <td>249798</td>\n",
       "      <td>230555</td>\n",
       "      <td>41831</td>\n",
       "      <td>172258</td>\n",
       "      <td>15711</td>\n",
       "    </tr>\n",
       "    <tr>\n",
       "      <th>2000</th>\n",
       "      <td>156560</td>\n",
       "      <td>39517</td>\n",
       "      <td>207793</td>\n",
       "      <td>90206</td>\n",
       "      <td>1709939</td>\n",
       "      <td>232752</td>\n",
       "      <td>216370</td>\n",
       "      <td>56109</td>\n",
       "      <td>642693</td>\n",
       "      <td>393195</td>\n",
       "      <td>...</td>\n",
       "      <td>29407</td>\n",
       "      <td>233153</td>\n",
       "      <td>998297</td>\n",
       "      <td>70292</td>\n",
       "      <td>18312</td>\n",
       "      <td>266886</td>\n",
       "      <td>237832</td>\n",
       "      <td>42607</td>\n",
       "      <td>180539</td>\n",
       "      <td>17205</td>\n",
       "    </tr>\n",
       "    <tr>\n",
       "      <th>2001</th>\n",
       "      <td>156404</td>\n",
       "      <td>40974</td>\n",
       "      <td>212656</td>\n",
       "      <td>89923</td>\n",
       "      <td>1702776</td>\n",
       "      <td>236383</td>\n",
       "      <td>220287</td>\n",
       "      <td>58882</td>\n",
       "      <td>658640</td>\n",
       "      <td>396875</td>\n",
       "      <td>...</td>\n",
       "      <td>29746</td>\n",
       "      <td>232723</td>\n",
       "      <td>1021889</td>\n",
       "      <td>73226</td>\n",
       "      <td>19274</td>\n",
       "      <td>284002</td>\n",
       "      <td>239426</td>\n",
       "      <td>43978</td>\n",
       "      <td>187939</td>\n",
       "      <td>18661</td>\n",
       "    </tr>\n",
       "  </tbody>\n",
       "</table>\n",
       "<p>5 rows × 50 columns</p>\n",
       "</div>"
      ],
      "text/plain": [
       "state  Alabama  Alaska  Arizona  Arkansas  California  Colorado  Connecticut  \\\n",
       "year                                                                           \n",
       "1997    143646   42262   168551     82756     1378654    184193       190791   \n",
       "1998    148596   41157   183138     84795     1470393    201076       196248   \n",
       "1999    154094   40722   198096     89317     1582377    216300       202230   \n",
       "2000    156560   39517   207793     90206     1709939    232752       216370   \n",
       "2001    156404   40974   212656     89923     1702776    236383       220287   \n",
       "\n",
       "state  Delaware  Florida  Georgia  ...  South Dakota  Tennesse    Texas  \\\n",
       "year                               ...                                    \n",
       "1997      45231   560888   328995  ...         24976    210844   872763   \n",
       "1998      49743   590135   352713  ...         26452    223769   928374   \n",
       "1999      53862   616625   377608  ...         27501    230418   965677   \n",
       "2000      56109   642693   393195  ...         29407    233153   998297   \n",
       "2001      58882   658640   396875  ...         29746    232723  1021889   \n",
       "\n",
       "state   Utah  Vermont  Virginia  Washington  West Virginia  Wisconsin  Wyoming  \n",
       "year                                                                            \n",
       "1997   57700    15415    217252      193898          38840     153241    14724  \n",
       "1998   62291    16073    233096      210205          40086     162523    14928  \n",
       "1999   66023    17159    249798      230555          41831     172258    15711  \n",
       "2000   70292    18312    266886      237832          42607     180539    17205  \n",
       "2001   73226    19274    284002      239426          43978     187939    18661  \n",
       "\n",
       "[5 rows x 50 columns]"
      ]
     },
     "execution_count": 3,
     "metadata": {},
     "output_type": "execute_result"
    }
   ],
   "source": [
    "# Minor Data Munging to Re-Format the Data Frames\n",
    "gdp_pivot = csv.pivot(index='year', columns='state', values='GDP')\n",
    "\n",
    "# Preview that Reformatting worked\n",
    "gdp_pivot.head()"
   ]
  },
  {
   "cell_type": "code",
   "execution_count": 4,
   "metadata": {},
   "outputs": [
    {
     "data": {
      "text/html": [
       "<div>\n",
       "<style scoped>\n",
       "    .dataframe tbody tr th:only-of-type {\n",
       "        vertical-align: middle;\n",
       "    }\n",
       "\n",
       "    .dataframe tbody tr th {\n",
       "        vertical-align: top;\n",
       "    }\n",
       "\n",
       "    .dataframe thead th {\n",
       "        text-align: right;\n",
       "    }\n",
       "</style>\n",
       "<table border=\"1\" class=\"dataframe\">\n",
       "  <thead>\n",
       "    <tr style=\"text-align: right;\">\n",
       "      <th></th>\n",
       "      <th>state</th>\n",
       "      <th>GDP</th>\n",
       "    </tr>\n",
       "  </thead>\n",
       "  <tbody>\n",
       "    <tr>\n",
       "      <th>44</th>\n",
       "      <td>Vermont</td>\n",
       "      <td>24813.136364</td>\n",
       "    </tr>\n",
       "    <tr>\n",
       "      <th>49</th>\n",
       "      <td>Wyoming</td>\n",
       "      <td>30157.636364</td>\n",
       "    </tr>\n",
       "    <tr>\n",
       "      <th>33</th>\n",
       "      <td>North Dakota</td>\n",
       "      <td>36751.727273</td>\n",
       "    </tr>\n",
       "    <tr>\n",
       "      <th>40</th>\n",
       "      <td>South Dakota</td>\n",
       "      <td>37521.181818</td>\n",
       "    </tr>\n",
       "    <tr>\n",
       "      <th>25</th>\n",
       "      <td>Montana</td>\n",
       "      <td>38094.227273</td>\n",
       "    </tr>\n",
       "  </tbody>\n",
       "</table>\n",
       "</div>"
      ],
      "text/plain": [
       "           state           GDP\n",
       "44       Vermont  24813.136364\n",
       "49       Wyoming  30157.636364\n",
       "33  North Dakota  36751.727273\n",
       "40  South Dakota  37521.181818\n",
       "25       Montana  38094.227273"
      ]
     },
     "execution_count": 4,
     "metadata": {},
     "output_type": "execute_result"
    }
   ],
   "source": [
    "gdp_grouped = csv.groupby(['state'])['GDP']\n",
    "avg_gdp_mean = gdp_grouped.mean()\n",
    "\n",
    "# Convert to DataFrame\n",
    "avg_gdp = pd.DataFrame(avg_gdp_mean)\n",
    "avg_gdp = avg_gdp.reset_index()\n",
    "\n",
    "# Preview DataFrame\n",
    "avg_gdp = avg_gdp.sort_values(['GDP'], ascending = True)\n",
    "avg_gdp.head()"
   ]
  },
  {
   "cell_type": "code",
   "execution_count": 5,
   "metadata": {},
   "outputs": [],
   "source": [
    "#Low States\n",
    "#avg_gdp['state'][:3]\n",
    "#avg_gdp['GDP'][:3]"
   ]
  },
  {
   "cell_type": "code",
   "execution_count": 6,
   "metadata": {},
   "outputs": [],
   "source": [
    "#High States\n",
    "#avg_gdp['state'][-3:]\n",
    "#avg_gdp['GDP'][-3:]"
   ]
  },
  {
   "cell_type": "code",
   "execution_count": 7,
   "metadata": {},
   "outputs": [
    {
     "data": {
      "text/html": [
       "<div>\n",
       "<style scoped>\n",
       "    .dataframe tbody tr th:only-of-type {\n",
       "        vertical-align: middle;\n",
       "    }\n",
       "\n",
       "    .dataframe tbody tr th {\n",
       "        vertical-align: top;\n",
       "    }\n",
       "\n",
       "    .dataframe thead th {\n",
       "        text-align: right;\n",
       "    }\n",
       "</style>\n",
       "<table border=\"1\" class=\"dataframe\">\n",
       "  <thead>\n",
       "    <tr style=\"text-align: right;\">\n",
       "      <th></th>\n",
       "      <th>year</th>\n",
       "      <th>state</th>\n",
       "      <th>homeownership(%)</th>\n",
       "      <th>GDP</th>\n",
       "      <th>unemployment_rate</th>\n",
       "    </tr>\n",
       "  </thead>\n",
       "  <tbody>\n",
       "    <tr>\n",
       "      <th>0</th>\n",
       "      <td>1997</td>\n",
       "      <td>Alabama</td>\n",
       "      <td>71.3</td>\n",
       "      <td>143646</td>\n",
       "      <td>5.0</td>\n",
       "    </tr>\n",
       "    <tr>\n",
       "      <th>1</th>\n",
       "      <td>1997</td>\n",
       "      <td>Alaska</td>\n",
       "      <td>67.2</td>\n",
       "      <td>42262</td>\n",
       "      <td>7.1</td>\n",
       "    </tr>\n",
       "    <tr>\n",
       "      <th>2</th>\n",
       "      <td>1997</td>\n",
       "      <td>Arizona</td>\n",
       "      <td>63.0</td>\n",
       "      <td>168551</td>\n",
       "      <td>4.6</td>\n",
       "    </tr>\n",
       "    <tr>\n",
       "      <th>3</th>\n",
       "      <td>1997</td>\n",
       "      <td>Arkansas</td>\n",
       "      <td>66.7</td>\n",
       "      <td>82756</td>\n",
       "      <td>5.2</td>\n",
       "    </tr>\n",
       "    <tr>\n",
       "      <th>4</th>\n",
       "      <td>1997</td>\n",
       "      <td>California</td>\n",
       "      <td>55.7</td>\n",
       "      <td>1378654</td>\n",
       "      <td>6.4</td>\n",
       "    </tr>\n",
       "  </tbody>\n",
       "</table>\n",
       "</div>"
      ],
      "text/plain": [
       "   year       state  homeownership(%)      GDP  unemployment_rate\n",
       "0  1997     Alabama              71.3   143646                5.0\n",
       "1  1997      Alaska              67.2    42262                7.1\n",
       "2  1997     Arizona              63.0   168551                4.6\n",
       "3  1997    Arkansas              66.7    82756                5.2\n",
       "4  1997  California              55.7  1378654                6.4"
      ]
     },
     "execution_count": 7,
     "metadata": {},
     "output_type": "execute_result"
    }
   ],
   "source": [
    "#Gustavo\n",
    "#creating data frame from original data and selecting desired columns into new df\n",
    "gus_data=pd.DataFrame(csv)\n",
    "avg_unemp_grouped= gus_data.groupby(['year', 'state','homeownership(%)', 'GDP'])['unemployment_rate'].mean()\n",
    "avg_unemp_df=pd.DataFrame(avg_unemp_grouped).reset_index()\n",
    "avg_unemp_df.head()\n"
   ]
  },
  {
   "cell_type": "code",
   "execution_count": 8,
   "metadata": {},
   "outputs": [
    {
     "data": {
      "image/png": "[encoded data removed]",
      "text/plain": [
       "<Figure size 432x288 with 1 Axes>"
      ]
     },
     "metadata": {
      "needs_background": "light"
     },
     "output_type": "display_data"
    }
   ],
   "source": [
    "#creating scatter plot to show the yearly distribution of unemployment rate\n",
    "\n",
    "x_axis=avg_unemp_df[\"year\"]\n",
    "y_axis=avg_unemp_df[\"homeownership(%)\"]\n",
    "\n",
    "plt.title(\"Unemployment rate year over year\")\n",
    "plt.xlabel(\"Year\")\n",
    "plt.ylabel(\"Unemployment rate (%)\")\n",
    "\n",
    "plt.scatter(x_axis, y_axis, marker=\"o\", color=\"red\")\n",
    "\n",
    "plt.show()"
   ]
  },
  {
   "cell_type": "code",
   "execution_count": 9,
   "metadata": {},
   "outputs": [],
   "source": [
    "# zData Munging to Re-Format the Data Frames\n",
    "unemployment_state =avg_unemp_df.pivot(index='year', columns='state', values='unemployment_rate')\n",
    "homeownership_state =avg_unemp_df.pivot(index='year', columns='state', values='homeownership(%)')\n",
    "\n"
   ]
  },
  {
   "cell_type": "code",
   "execution_count": 10,
   "metadata": {},
   "outputs": [
    {
     "data": {
      "image/png": "[encoded data removed]",
      "text/plain": [
       "<Figure size 432x288 with 1 Axes>"
      ]
     },
     "metadata": {
      "needs_background": "light"
     },
     "output_type": "display_data"
    },
    {
     "data": {
      "image/png": "[encoded data removed]",
      "text/plain": [
       "<Figure size 432x288 with 1 Axes>"
      ]
     },
     "metadata": {
      "needs_background": "light"
     },
     "output_type": "display_data"
    }
   ],
   "source": [
    "# Creating the plot for the yearly unemployments for 3 states with lower gdp\n",
    "low_gdp_unemploy= ['Vermont', 'o', 'red'], ['Wyoming', '^', 'blue'], ['North Dakota', 's', 'green']\n",
    "\n",
    "for state, mark, color in low_gdp_unemploy:\n",
    "    unemp_plot = plt.plot(unemployment_state.index, unemployment_state[state], marker=mark, color=color, ls='--', label=state, linewidth = 0.5)\n",
    "    \n",
    "plt.legend(loc='upper left')\n",
    "plt.xlabel('Year')\n",
    "plt.ylabel('Unemployment rate (%)')\n",
    "plt.title('Unemployment rate year over year')\n",
    "plt.grid()\n",
    "\n",
    "plt.show()\n",
    "\n",
    "#Creating the plot for the yearly Homeownership for 3 states with lower gdp\n",
    "low_gdp_homeownership= ['Vermont', 'o', 'red'], ['Wyoming', '^', 'blue'], ['North Dakota', 's', 'green']\n",
    "\n",
    "for state, mark, color in low_gdp_homeownership:\n",
    "    home_plot = plt.plot(homeownership_state.index, homeownership_state[state], marker=mark, color=color, ls='--', label=state, linewidth = 0.5)\n",
    "    \n",
    "plt.legend(loc='lower left')\n",
    "plt.xlabel('Year')\n",
    "plt.ylabel('Homeownership rate (%)')\n",
    "plt.title('Homeownership year over year')\n",
    "plt.grid()\n",
    "\n",
    "plt.show()"
   ]
  },
  {
   "cell_type": "code",
   "execution_count": 11,
   "metadata": {},
   "outputs": [
    {
     "data": {
      "image/png": "[encoded data removed]",
      "text/plain": [
       "<Figure size 432x288 with 1 Axes>"
      ]
     },
     "metadata": {
      "needs_background": "light"
     },
     "output_type": "display_data"
    },
    {
     "data": {
      "image/png": "[encoded data removed]",
      "text/plain": [
       "<Figure size 432x288 with 1 Axes>"
      ]
     },
     "metadata": {
      "needs_background": "light"
     },
     "output_type": "display_data"
    }
   ],
   "source": [
    "# Creating the plot for the yearly unemployments for 3 states with higher gdp\n",
    "high_gdp_unemploy= ['California', 'o', 'red'], ['Texas', '^', 'blue'], ['New York', 's', 'green']\n",
    "\n",
    "for state, mark, color in high_gdp_unemploy:\n",
    "    unemp_plot = plt.plot(unemployment_state.index, unemployment_state[state], marker=mark, color=color, ls='--', label=state, linewidth = 0.5)\n",
    "    \n",
    "plt.legend(loc='upper left')\n",
    "plt.xlabel('Year')\n",
    "plt.ylabel('Unemployment rate (%)')\n",
    "plt.title('Unemployment rate year over year')\n",
    "plt.grid()\n",
    "\n",
    "plt.show()\n",
    "\n",
    "#Creating the plot for the yearly Homeownership for 3 states with higher gdp\n",
    "high_gdp_homeownership=['California', 'o', 'red'], ['Texas', '^', 'blue'], ['New York', 's', 'green']\n",
    "\n",
    "for state, mark, color in high_gdp_homeownership:\n",
    "    home_plot = plt.plot(homeownership_state.index, homeownership_state[state], marker=mark, color=color, ls='--', label=state, linewidth = 0.5)\n",
    "    \n",
    "plt.legend(loc='upper left')\n",
    "plt.xlabel('Year')\n",
    "plt.ylabel('Homeownership rate (%)')\n",
    "plt.title('Homeownership year over year')\n",
    "plt.grid()\n",
    "\n",
    "plt.show()\n",
    "\n"
   ]
  },
  {
   "cell_type": "code",
   "execution_count": 12,
   "metadata": {},
   "outputs": [
    {
     "name": "stdout",
     "output_type": "stream",
     "text": [
      "slope: 0.017639    intercept: 732.248634\n",
      "R-squared: 0.964867\n"
     ]
    },
    {
     "data": {
      "image/png": "[encoded data removed]",
      "text/plain": [
       "<Figure size 432x288 with 1 Axes>"
      ]
     },
     "metadata": {
      "needs_background": "light"
     },
     "output_type": "display_data"
    }
   ],
   "source": [
    "# Creating the plot for the biggest correlation \n",
    "gdp_x=csv[\"GDP\"]\n",
    "pop_y= csv[\"population(thousands)\"]\n",
    "slope, intercept, r_value, p_value, std_err = stats.linregress(gdp_x,pop_y)\n",
    "print(\"slope: %f    intercept: %f\" % (slope, intercept))\n",
    "print(\"R-squared: %f\" % r_value**2)\n",
    "\n",
    "plt.plot(gdp_x, pop_y, 'o',color=\"green\", label='data points')\n",
    "plt.plot(gdp_x, intercept + slope*gdp_x, 'r', label='fitted line')\n",
    "plt.xlabel('GDP')\n",
    "plt.ylabel('Population (Thousands)')\n",
    "plt.title('Comparison between the GDP and population')\n",
    "plt.grid()\n",
    "plt.legend()\n",
    "\n",
    "plt.show()\n"
   ]
  },
  {
   "cell_type": "code",
   "execution_count": 13,
   "metadata": {
    "scrolled": true
   },
   "outputs": [
    {
     "data": {
      "text/html": [
       "<div>\n",
       "<style scoped>\n",
       "    .dataframe tbody tr th:only-of-type {\n",
       "        vertical-align: middle;\n",
       "    }\n",
       "\n",
       "    .dataframe tbody tr th {\n",
       "        vertical-align: top;\n",
       "    }\n",
       "\n",
       "    .dataframe thead th {\n",
       "        text-align: right;\n",
       "    }\n",
       "</style>\n",
       "<table border=\"1\" class=\"dataframe\">\n",
       "  <thead>\n",
       "    <tr style=\"text-align: right;\">\n",
       "      <th></th>\n",
       "      <th>year</th>\n",
       "      <th>state</th>\n",
       "      <th>state_abbrev</th>\n",
       "      <th>GDP</th>\n",
       "      <th>homeownership(%)</th>\n",
       "      <th>unemployment_rate</th>\n",
       "      <th>population(thousands)</th>\n",
       "      <th>median income</th>\n",
       "      <th>avg house price (thousands)</th>\n",
       "    </tr>\n",
       "  </thead>\n",
       "  <tbody>\n",
       "    <tr>\n",
       "      <th>0</th>\n",
       "      <td>1997</td>\n",
       "      <td>Alabama</td>\n",
       "      <td>AL</td>\n",
       "      <td>143646</td>\n",
       "      <td>71.3</td>\n",
       "      <td>5.0</td>\n",
       "      <td>4320</td>\n",
       "      <td>49983</td>\n",
       "      <td>191.43</td>\n",
       "    </tr>\n",
       "    <tr>\n",
       "      <th>1</th>\n",
       "      <td>1998</td>\n",
       "      <td>Alabama</td>\n",
       "      <td>AL</td>\n",
       "      <td>148596</td>\n",
       "      <td>72.9</td>\n",
       "      <td>4.4</td>\n",
       "      <td>4351</td>\n",
       "      <td>55997</td>\n",
       "      <td>201.27</td>\n",
       "    </tr>\n",
       "    <tr>\n",
       "      <th>2</th>\n",
       "      <td>1999</td>\n",
       "      <td>Alabama</td>\n",
       "      <td>AL</td>\n",
       "      <td>154094</td>\n",
       "      <td>74.8</td>\n",
       "      <td>4.7</td>\n",
       "      <td>4370</td>\n",
       "      <td>54806</td>\n",
       "      <td>206.43</td>\n",
       "    </tr>\n",
       "    <tr>\n",
       "      <th>3</th>\n",
       "      <td>2000</td>\n",
       "      <td>Alabama</td>\n",
       "      <td>AL</td>\n",
       "      <td>156560</td>\n",
       "      <td>73.2</td>\n",
       "      <td>4.6</td>\n",
       "      <td>4452</td>\n",
       "      <td>49989</td>\n",
       "      <td>211.62</td>\n",
       "    </tr>\n",
       "    <tr>\n",
       "      <th>4</th>\n",
       "      <td>2001</td>\n",
       "      <td>Alabama</td>\n",
       "      <td>AL</td>\n",
       "      <td>156404</td>\n",
       "      <td>73.2</td>\n",
       "      <td>5.1</td>\n",
       "      <td>4468</td>\n",
       "      <td>51798</td>\n",
       "      <td>223.33</td>\n",
       "    </tr>\n",
       "  </tbody>\n",
       "</table>\n",
       "</div>"
      ],
      "text/plain": [
       "   year    state state_abbrev     GDP  homeownership(%)  unemployment_rate  \\\n",
       "0  1997  Alabama           AL  143646              71.3                5.0   \n",
       "1  1998  Alabama           AL  148596              72.9                4.4   \n",
       "2  1999  Alabama           AL  154094              74.8                4.7   \n",
       "3  2000  Alabama           AL  156560              73.2                4.6   \n",
       "4  2001  Alabama           AL  156404              73.2                5.1   \n",
       "\n",
       "   population(thousands)  median income  avg house price (thousands)  \n",
       "0                   4320          49983                       191.43  \n",
       "1                   4351          55997                       201.27  \n",
       "2                   4370          54806                       206.43  \n",
       "3                   4452          49989                       211.62  \n",
       "4                   4468          51798                       223.33  "
      ]
     },
     "execution_count": 13,
     "metadata": {},
     "output_type": "execute_result"
    }
   ],
   "source": [
    "#David\n",
    "david_data = pd.read_csv('Resources/Project1_dataset.csv')\n",
    "david_data = david_data.rename(columns={'avg house data': 'avg house price (thousands)'})\n",
    "david_data.head()"
   ]
  },
  {
   "cell_type": "code",
   "execution_count": 14,
   "metadata": {},
   "outputs": [
    {
     "data": {
      "text/html": [
       "<div>\n",
       "<style scoped>\n",
       "    .dataframe tbody tr th:only-of-type {\n",
       "        vertical-align: middle;\n",
       "    }\n",
       "\n",
       "    .dataframe tbody tr th {\n",
       "        vertical-align: top;\n",
       "    }\n",
       "\n",
       "    .dataframe thead th {\n",
       "        text-align: right;\n",
       "    }\n",
       "</style>\n",
       "<table border=\"1\" class=\"dataframe\">\n",
       "  <thead>\n",
       "    <tr style=\"text-align: right;\">\n",
       "      <th></th>\n",
       "      <th>year</th>\n",
       "      <th>GDP</th>\n",
       "      <th>state</th>\n",
       "      <th>avg house price (thousands)</th>\n",
       "    </tr>\n",
       "  </thead>\n",
       "  <tbody>\n",
       "    <tr>\n",
       "      <th>0</th>\n",
       "      <td>1997</td>\n",
       "      <td>14724</td>\n",
       "      <td>Wyoming</td>\n",
       "      <td>138.11</td>\n",
       "    </tr>\n",
       "    <tr>\n",
       "      <th>1</th>\n",
       "      <td>1997</td>\n",
       "      <td>15415</td>\n",
       "      <td>Vermont</td>\n",
       "      <td>224.58</td>\n",
       "    </tr>\n",
       "    <tr>\n",
       "      <th>2</th>\n",
       "      <td>1997</td>\n",
       "      <td>22411</td>\n",
       "      <td>North Dakota</td>\n",
       "      <td>147.68</td>\n",
       "    </tr>\n",
       "    <tr>\n",
       "      <th>3</th>\n",
       "      <td>1997</td>\n",
       "      <td>24976</td>\n",
       "      <td>South Dakota</td>\n",
       "      <td>181.17</td>\n",
       "    </tr>\n",
       "    <tr>\n",
       "      <th>4</th>\n",
       "      <td>1997</td>\n",
       "      <td>29169</td>\n",
       "      <td>Montana</td>\n",
       "      <td>192.90</td>\n",
       "    </tr>\n",
       "  </tbody>\n",
       "</table>\n",
       "</div>"
      ],
      "text/plain": [
       "   year    GDP         state  avg house price (thousands)\n",
       "0  1997  14724       Wyoming                       138.11\n",
       "1  1997  15415       Vermont                       224.58\n",
       "2  1997  22411  North Dakota                       147.68\n",
       "3  1997  24976  South Dakota                       181.17\n",
       "4  1997  29169       Montana                       192.90"
      ]
     },
     "execution_count": 14,
     "metadata": {},
     "output_type": "execute_result"
    }
   ],
   "source": [
    "price_grouped = david_data.groupby(['year', 'GDP', 'state'])['avg house price (thousands)']\n",
    "avg_price_mean = price_grouped.mean()\n",
    "\n",
    "# Convert to DataFrame\n",
    "housing_price = pd.DataFrame(avg_price_mean)\n",
    "housing_price = housing_price.reset_index()\n",
    "\n",
    "# Preview DataFrame\n",
    "housing_price.head()"
   ]
  },
  {
   "cell_type": "code",
   "execution_count": 15,
   "metadata": {},
   "outputs": [
    {
     "data": {
      "text/html": [
       "<div>\n",
       "<style scoped>\n",
       "    .dataframe tbody tr th:only-of-type {\n",
       "        vertical-align: middle;\n",
       "    }\n",
       "\n",
       "    .dataframe tbody tr th {\n",
       "        vertical-align: top;\n",
       "    }\n",
       "\n",
       "    .dataframe thead th {\n",
       "        text-align: right;\n",
       "    }\n",
       "</style>\n",
       "<table border=\"1\" class=\"dataframe\">\n",
       "  <thead>\n",
       "    <tr style=\"text-align: right;\">\n",
       "      <th>state</th>\n",
       "      <th>Alabama</th>\n",
       "      <th>Alaska</th>\n",
       "      <th>Arizona</th>\n",
       "      <th>Arkansas</th>\n",
       "      <th>California</th>\n",
       "      <th>Colorado</th>\n",
       "      <th>Connecticut</th>\n",
       "      <th>Delaware</th>\n",
       "      <th>Florida</th>\n",
       "      <th>Georgia</th>\n",
       "      <th>...</th>\n",
       "      <th>South Dakota</th>\n",
       "      <th>Tennesse</th>\n",
       "      <th>Texas</th>\n",
       "      <th>Utah</th>\n",
       "      <th>Vermont</th>\n",
       "      <th>Virginia</th>\n",
       "      <th>Washington</th>\n",
       "      <th>West Virginia</th>\n",
       "      <th>Wisconsin</th>\n",
       "      <th>Wyoming</th>\n",
       "    </tr>\n",
       "    <tr>\n",
       "      <th>year</th>\n",
       "      <th></th>\n",
       "      <th></th>\n",
       "      <th></th>\n",
       "      <th></th>\n",
       "      <th></th>\n",
       "      <th></th>\n",
       "      <th></th>\n",
       "      <th></th>\n",
       "      <th></th>\n",
       "      <th></th>\n",
       "      <th></th>\n",
       "      <th></th>\n",
       "      <th></th>\n",
       "      <th></th>\n",
       "      <th></th>\n",
       "      <th></th>\n",
       "      <th></th>\n",
       "      <th></th>\n",
       "      <th></th>\n",
       "      <th></th>\n",
       "      <th></th>\n",
       "    </tr>\n",
       "  </thead>\n",
       "  <tbody>\n",
       "    <tr>\n",
       "      <th>1997</th>\n",
       "      <td>191.43</td>\n",
       "      <td>158.66</td>\n",
       "      <td>173.76</td>\n",
       "      <td>167.83</td>\n",
       "      <td>206.98</td>\n",
       "      <td>210.43</td>\n",
       "      <td>228.02</td>\n",
       "      <td>237.66</td>\n",
       "      <td>178.59</td>\n",
       "      <td>197.52</td>\n",
       "      <td>...</td>\n",
       "      <td>181.17</td>\n",
       "      <td>194.19</td>\n",
       "      <td>139.49</td>\n",
       "      <td>222.34</td>\n",
       "      <td>224.58</td>\n",
       "      <td>205.92</td>\n",
       "      <td>231.56</td>\n",
       "      <td>141.19</td>\n",
       "      <td>199.47</td>\n",
       "      <td>138.11</td>\n",
       "    </tr>\n",
       "    <tr>\n",
       "      <th>1998</th>\n",
       "      <td>201.27</td>\n",
       "      <td>163.53</td>\n",
       "      <td>182.92</td>\n",
       "      <td>174.01</td>\n",
       "      <td>224.31</td>\n",
       "      <td>222.96</td>\n",
       "      <td>239.44</td>\n",
       "      <td>245.40</td>\n",
       "      <td>187.44</td>\n",
       "      <td>209.54</td>\n",
       "      <td>...</td>\n",
       "      <td>188.76</td>\n",
       "      <td>204.42</td>\n",
       "      <td>146.17</td>\n",
       "      <td>233.72</td>\n",
       "      <td>229.94</td>\n",
       "      <td>212.50</td>\n",
       "      <td>247.15</td>\n",
       "      <td>147.90</td>\n",
       "      <td>207.21</td>\n",
       "      <td>142.94</td>\n",
       "    </tr>\n",
       "    <tr>\n",
       "      <th>1999</th>\n",
       "      <td>206.43</td>\n",
       "      <td>169.21</td>\n",
       "      <td>191.93</td>\n",
       "      <td>178.33</td>\n",
       "      <td>242.29</td>\n",
       "      <td>242.28</td>\n",
       "      <td>252.28</td>\n",
       "      <td>254.79</td>\n",
       "      <td>194.77</td>\n",
       "      <td>222.32</td>\n",
       "      <td>...</td>\n",
       "      <td>195.11</td>\n",
       "      <td>211.00</td>\n",
       "      <td>154.08</td>\n",
       "      <td>236.54</td>\n",
       "      <td>239.53</td>\n",
       "      <td>221.64</td>\n",
       "      <td>260.29</td>\n",
       "      <td>150.63</td>\n",
       "      <td>217.62</td>\n",
       "      <td>146.91</td>\n",
       "    </tr>\n",
       "    <tr>\n",
       "      <th>2000</th>\n",
       "      <td>211.62</td>\n",
       "      <td>172.12</td>\n",
       "      <td>203.57</td>\n",
       "      <td>182.52</td>\n",
       "      <td>272.69</td>\n",
       "      <td>270.57</td>\n",
       "      <td>271.82</td>\n",
       "      <td>269.40</td>\n",
       "      <td>207.98</td>\n",
       "      <td>235.72</td>\n",
       "      <td>...</td>\n",
       "      <td>202.82</td>\n",
       "      <td>216.76</td>\n",
       "      <td>163.50</td>\n",
       "      <td>238.90</td>\n",
       "      <td>257.29</td>\n",
       "      <td>236.80</td>\n",
       "      <td>273.85</td>\n",
       "      <td>153.13</td>\n",
       "      <td>230.92</td>\n",
       "      <td>153.17</td>\n",
       "    </tr>\n",
       "    <tr>\n",
       "      <th>2001</th>\n",
       "      <td>223.33</td>\n",
       "      <td>180.71</td>\n",
       "      <td>217.08</td>\n",
       "      <td>192.28</td>\n",
       "      <td>307.44</td>\n",
       "      <td>295.96</td>\n",
       "      <td>295.74</td>\n",
       "      <td>289.06</td>\n",
       "      <td>228.67</td>\n",
       "      <td>252.97</td>\n",
       "      <td>...</td>\n",
       "      <td>213.57</td>\n",
       "      <td>227.32</td>\n",
       "      <td>174.38</td>\n",
       "      <td>249.28</td>\n",
       "      <td>276.91</td>\n",
       "      <td>257.21</td>\n",
       "      <td>290.65</td>\n",
       "      <td>161.50</td>\n",
       "      <td>243.06</td>\n",
       "      <td>162.00</td>\n",
       "    </tr>\n",
       "  </tbody>\n",
       "</table>\n",
       "<p>5 rows × 50 columns</p>\n",
       "</div>"
      ],
      "text/plain": [
       "state  Alabama  Alaska  Arizona  Arkansas  California  Colorado  Connecticut  \\\n",
       "year                                                                           \n",
       "1997    191.43  158.66   173.76    167.83      206.98    210.43       228.02   \n",
       "1998    201.27  163.53   182.92    174.01      224.31    222.96       239.44   \n",
       "1999    206.43  169.21   191.93    178.33      242.29    242.28       252.28   \n",
       "2000    211.62  172.12   203.57    182.52      272.69    270.57       271.82   \n",
       "2001    223.33  180.71   217.08    192.28      307.44    295.96       295.74   \n",
       "\n",
       "state  Delaware  Florida  Georgia  ...  South Dakota  Tennesse   Texas  \\\n",
       "year                               ...                                   \n",
       "1997     237.66   178.59   197.52  ...        181.17    194.19  139.49   \n",
       "1998     245.40   187.44   209.54  ...        188.76    204.42  146.17   \n",
       "1999     254.79   194.77   222.32  ...        195.11    211.00  154.08   \n",
       "2000     269.40   207.98   235.72  ...        202.82    216.76  163.50   \n",
       "2001     289.06   228.67   252.97  ...        213.57    227.32  174.38   \n",
       "\n",
       "state    Utah  Vermont  Virginia  Washington  West Virginia  Wisconsin  \\\n",
       "year                                                                     \n",
       "1997   222.34   224.58    205.92      231.56         141.19     199.47   \n",
       "1998   233.72   229.94    212.50      247.15         147.90     207.21   \n",
       "1999   236.54   239.53    221.64      260.29         150.63     217.62   \n",
       "2000   238.90   257.29    236.80      273.85         153.13     230.92   \n",
       "2001   249.28   276.91    257.21      290.65         161.50     243.06   \n",
       "\n",
       "state  Wyoming  \n",
       "year            \n",
       "1997    138.11  \n",
       "1998    142.94  \n",
       "1999    146.91  \n",
       "2000    153.17  \n",
       "2001    162.00  \n",
       "\n",
       "[5 rows x 50 columns]"
      ]
     },
     "execution_count": 15,
     "metadata": {},
     "output_type": "execute_result"
    }
   ],
   "source": [
    "# Minor Data Munging to Re-Format the Data Frames\n",
    "housing_price_pivot = housing_price.pivot(index='year', columns='state', values='avg house price (thousands)')\n",
    "\n",
    "# Preview that Reformatting worked\n",
    "housing_price_pivot.head()"
   ]
  },
  {
   "cell_type": "code",
   "execution_count": 16,
   "metadata": {},
   "outputs": [
    {
     "data": {
      "image/png": "[encoded data removed]",
      "text/plain": [
       "<Figure size 432x288 with 1 Axes>"
      ]
     },
     "metadata": {
      "needs_background": "light"
     },
     "output_type": "display_data"
    },
    {
     "data": {
      "image/png": "[encoded data removed]",
      "text/plain": [
       "<Figure size 432x288 with 1 Axes>"
      ]
     },
     "metadata": {
      "needs_background": "light"
     },
     "output_type": "display_data"
    }
   ],
   "source": [
    "# Generate Housing Price Plot for Low GDP States\n",
    "low_gdp_states = ['Vermont', 'o', 'red'], ['Wyoming', '^', 'blue'], ['North Dakota', 's', 'green']\n",
    "\n",
    "for state, mark, color in low_gdp_states:\n",
    "    housing_price_plot = plt.plot(housing_price_pivot.index, housing_price_pivot[state], marker=mark, color=color, ls='--', label=state, linewidth = 0.5)\n",
    "    \n",
    "#Aesthetics\n",
    "plt.legend(loc='best')\n",
    "plt.xlabel('Year')\n",
    "plt.ylabel('Housing Price (Thousands)')\n",
    "plt.title('Housing Price Year Over Year For Low GDP States')\n",
    "plt.grid()\n",
    "\n",
    "plt.show()\n",
    "\n",
    "#Generate GDP Plot for Low GDP States\n",
    "low_gdp_states = ['Vermont', 'o', 'red'], ['Wyoming', '^', 'blue'], ['North Dakota', 's', 'green']\n",
    "\n",
    "for state, mark, color in low_gdp_states:\n",
    "    gdp_plot = plt.plot(gdp_pivot.index, gdp_pivot[state], marker= mark, color=color, ls='--', label=state, linewidth = 0.5)\n",
    "\n",
    "#Aesthetics\n",
    "plt.legend(loc='best')\n",
    "plt.xlabel('Year')\n",
    "plt.ylabel('GDP')\n",
    "plt.title('State GDP Year Over Year For Low GDP States')\n",
    "plt.grid()\n",
    "\n",
    "plt.show()"
   ]
  },
  {
   "cell_type": "code",
   "execution_count": 17,
   "metadata": {},
   "outputs": [
    {
     "data": {
      "image/png": "[encoded data removed]",
      "text/plain": [
       "<Figure size 432x288 with 1 Axes>"
      ]
     },
     "metadata": {
      "needs_background": "light"
     },
     "output_type": "display_data"
    },
    {
     "data": {
      "image/png": "[encoded data removed]",
      "text/plain": [
       "<Figure size 432x288 with 1 Axes>"
      ]
     },
     "metadata": {
      "needs_background": "light"
     },
     "output_type": "display_data"
    }
   ],
   "source": [
    "# Generate Housing Price Plot for High GDP States\n",
    "high_gdp_states = ['California', 'o', 'red'], ['Texas', '^', 'blue'], ['New York', 's', 'green']\n",
    "\n",
    "for state, mark, color in high_gdp_states:\n",
    "    housing_price_plot = plt.plot(housing_price_pivot.index, housing_price_pivot[state], marker=mark, color=color, ls='--', label=state, linewidth = 0.5)\n",
    "    \n",
    "#Aesthetics\n",
    "plt.legend(loc='best')\n",
    "plt.xlabel('Year')\n",
    "plt.ylabel('Housing Price (Thousands)')\n",
    "plt.title('Housing Price Year Over Year For High GDP States')\n",
    "plt.grid()\n",
    "\n",
    "plt.show()\n",
    "\n",
    "#Generate GDP Plot for High GDP States\n",
    "high_gdp_states = ['California', 'o', 'red'], ['Texas', '^', 'blue'], ['New York', 's', 'green']\n",
    "\n",
    "for state, mark, color in high_gdp_states:\n",
    "    gdp_plot = plt.plot(gdp_pivot.index, gdp_pivot[state], marker = mark, color=color, ls='--', label=state, linewidth = 0.5)\n",
    "\n",
    "#Aesthetics\n",
    "plt.legend(loc='best')\n",
    "plt.xlabel('Year')\n",
    "plt.ylabel('GDP')\n",
    "plt.title('State GDP Year Over Year For High GDP States')\n",
    "plt.grid()\n",
    "\n",
    "plt.show()"
   ]
  },
  {
   "cell_type": "code",
   "execution_count": 18,
   "metadata": {},
   "outputs": [
    {
     "data": {
      "text/plain": [
       "state\n",
       "Vermont         24813.136364\n",
       "Wyoming         30157.636364\n",
       "North Dakota    36751.727273\n",
       "South Dakota    37521.181818\n",
       "Montana         38094.227273\n",
       "Name: GDP, dtype: float64"
      ]
     },
     "execution_count": 18,
     "metadata": {},
     "output_type": "execute_result"
    }
   ],
   "source": [
    "#Erik\n",
    "erik_data=pd.DataFrame(csv)\n",
    "#average gdp by state\n",
    "avg_state_gdp = erik_data.groupby(['state'])\n",
    "avg_state_gdp = avg_state_gdp['GDP'].mean()\n",
    "\n",
    "# Preview DataFrame\n",
    "avg_state_gdp = avg_state_gdp.sort_values(ascending = True)\n",
    "avg_state_gdp.head()"
   ]
  },
  {
   "cell_type": "code",
   "execution_count": 19,
   "metadata": {},
   "outputs": [
    {
     "data": {
      "text/html": [
       "<div>\n",
       "<style scoped>\n",
       "    .dataframe tbody tr th:only-of-type {\n",
       "        vertical-align: middle;\n",
       "    }\n",
       "\n",
       "    .dataframe tbody tr th {\n",
       "        vertical-align: top;\n",
       "    }\n",
       "\n",
       "    .dataframe thead th {\n",
       "        text-align: right;\n",
       "    }\n",
       "</style>\n",
       "<table border=\"1\" class=\"dataframe\">\n",
       "  <thead>\n",
       "    <tr style=\"text-align: right;\">\n",
       "      <th></th>\n",
       "      <th>GDP</th>\n",
       "      <th>unemployment_rate</th>\n",
       "    </tr>\n",
       "    <tr>\n",
       "      <th>state</th>\n",
       "      <th></th>\n",
       "      <th></th>\n",
       "    </tr>\n",
       "  </thead>\n",
       "  <tbody>\n",
       "    <tr>\n",
       "      <th>Vermont</th>\n",
       "      <td>24813.136364</td>\n",
       "      <td>4.013636</td>\n",
       "    </tr>\n",
       "    <tr>\n",
       "      <th>Wyoming</th>\n",
       "      <td>30157.636364</td>\n",
       "      <td>4.413636</td>\n",
       "    </tr>\n",
       "    <tr>\n",
       "      <th>North Dakota</th>\n",
       "      <td>36751.727273</td>\n",
       "      <td>3.172727</td>\n",
       "    </tr>\n",
       "    <tr>\n",
       "      <th>South Dakota</th>\n",
       "      <td>37521.181818</td>\n",
       "      <td>3.436364</td>\n",
       "    </tr>\n",
       "    <tr>\n",
       "      <th>Montana</th>\n",
       "      <td>38094.227273</td>\n",
       "      <td>4.959091</td>\n",
       "    </tr>\n",
       "  </tbody>\n",
       "</table>\n",
       "</div>"
      ],
      "text/plain": [
       "                       GDP  unemployment_rate\n",
       "state                                        \n",
       "Vermont       24813.136364           4.013636\n",
       "Wyoming       30157.636364           4.413636\n",
       "North Dakota  36751.727273           3.172727\n",
       "South Dakota  37521.181818           3.436364\n",
       "Montana       38094.227273           4.959091"
      ]
     },
     "execution_count": 19,
     "metadata": {},
     "output_type": "execute_result"
    }
   ],
   "source": [
    "erik_data=pd.DataFrame(csv)\n",
    "#average unemployment by state\n",
    "avg_state_unemp = erik_data.groupby(['state'])\n",
    "avg_state_unemp = avg_state_unemp['GDP', 'unemployment_rate'].mean()\n",
    "avg_state_unem = avg_state_unemp.sort_values('GDP', ascending=True)\n",
    "avg_state_unem.head()"
   ]
  },
  {
   "cell_type": "code",
   "execution_count": 20,
   "metadata": {},
   "outputs": [
    {
     "data": {
      "text/html": [
       "<div>\n",
       "<style scoped>\n",
       "    .dataframe tbody tr th:only-of-type {\n",
       "        vertical-align: middle;\n",
       "    }\n",
       "\n",
       "    .dataframe tbody tr th {\n",
       "        vertical-align: top;\n",
       "    }\n",
       "\n",
       "    .dataframe thead th {\n",
       "        text-align: right;\n",
       "    }\n",
       "</style>\n",
       "<table border=\"1\" class=\"dataframe\">\n",
       "  <thead>\n",
       "    <tr style=\"text-align: right;\">\n",
       "      <th></th>\n",
       "      <th>GDP</th>\n",
       "      <th>homeownership(%)</th>\n",
       "    </tr>\n",
       "    <tr>\n",
       "      <th>state</th>\n",
       "      <th></th>\n",
       "      <th></th>\n",
       "    </tr>\n",
       "  </thead>\n",
       "  <tbody>\n",
       "    <tr>\n",
       "      <th>Vermont</th>\n",
       "      <td>24813.136364</td>\n",
       "      <td>71.918182</td>\n",
       "    </tr>\n",
       "    <tr>\n",
       "      <th>Wyoming</th>\n",
       "      <td>30157.636364</td>\n",
       "      <td>71.595455</td>\n",
       "    </tr>\n",
       "    <tr>\n",
       "      <th>North Dakota</th>\n",
       "      <td>36751.727273</td>\n",
       "      <td>66.950000</td>\n",
       "    </tr>\n",
       "    <tr>\n",
       "      <th>South Dakota</th>\n",
       "      <td>37521.181818</td>\n",
       "      <td>69.595455</td>\n",
       "    </tr>\n",
       "    <tr>\n",
       "      <th>Montana</th>\n",
       "      <td>38094.227273</td>\n",
       "      <td>68.809091</td>\n",
       "    </tr>\n",
       "  </tbody>\n",
       "</table>\n",
       "</div>"
      ],
      "text/plain": [
       "                       GDP  homeownership(%)\n",
       "state                                       \n",
       "Vermont       24813.136364         71.918182\n",
       "Wyoming       30157.636364         71.595455\n",
       "North Dakota  36751.727273         66.950000\n",
       "South Dakota  37521.181818         69.595455\n",
       "Montana       38094.227273         68.809091"
      ]
     },
     "execution_count": 20,
     "metadata": {},
     "output_type": "execute_result"
    }
   ],
   "source": [
    "#average homeownership % by state\n",
    "avg_state_home = erik_data.groupby(['state'])\n",
    "avg_state_home = avg_state_home['GDP','homeownership(%)'].mean()\n",
    "avg_state_home = avg_state_home.sort_values('GDP', ascending=True)\n",
    "avg_state_home.head()"
   ]
  },
  {
   "cell_type": "code",
   "execution_count": 21,
   "metadata": {},
   "outputs": [
    {
     "data": {
      "image/png": "[encoded data removed]",
      "text/plain": [
       "<Figure size 1440x216 with 1 Axes>"
      ]
     },
     "metadata": {
      "needs_background": "light"
     },
     "output_type": "display_data"
    },
    {
     "data": {
      "image/png": "[encoded data removed]",
      "text/plain": [
       "<Figure size 1440x216 with 1 Axes>"
      ]
     },
     "metadata": {
      "needs_background": "light"
     },
     "output_type": "display_data"
    },
    {
     "data": {
      "text/plain": [
       "<Figure size 432x288 with 0 Axes>"
      ]
     },
     "metadata": {},
     "output_type": "display_data"
    }
   ],
   "source": [
    "# Use DataFrame.plot() in order to create a bar chart of the data\n",
    "avg_state_unem['unemployment_rate'][:3].plot(kind=\"bar\", figsize=(20,3))\n",
    "\n",
    "# Set a title for the chart\n",
    "plt.title(\"Average Unemployment\")\n",
    "\n",
    "plt.show()\n",
    "plt.tight_layout()\n",
    "\n",
    "# Use DataFrame.plot() in order to create a bar chart of the data\n",
    "avg_state_unem['unemployment_rate'][-3:].plot(kind=\"bar\", figsize=(20,3))\n",
    "\n",
    "# Set a title for the chart\n",
    "plt.title(\"Average Unemployment\")\n",
    "\n",
    "plt.show()\n",
    "plt.tight_layout()"
   ]
  },
  {
   "cell_type": "code",
   "execution_count": 22,
   "metadata": {},
   "outputs": [
    {
     "data": {
      "image/png": "[encoded data removed]",
      "text/plain": [
       "<Figure size 1440x216 with 1 Axes>"
      ]
     },
     "metadata": {
      "needs_background": "light"
     },
     "output_type": "display_data"
    },
    {
     "data": {
      "image/png": "[encoded data removed]",
      "text/plain": [
       "<Figure size 1440x216 with 1 Axes>"
      ]
     },
     "metadata": {
      "needs_background": "light"
     },
     "output_type": "display_data"
    },
    {
     "data": {
      "text/plain": [
       "<Figure size 432x288 with 0 Axes>"
      ]
     },
     "metadata": {},
     "output_type": "display_data"
    }
   ],
   "source": [
    "# Use DataFrame.plot() in order to create a bar chart of the data\n",
    "avg_state_home['homeownership(%)'][:3].plot(kind=\"bar\", figsize=(20,3))\n",
    "\n",
    "# Set a title for the chart\n",
    "plt.title(\"Average Homeownership\")\n",
    "\n",
    "plt.show()\n",
    "plt.tight_layout()\n",
    "\n",
    "# Use DataFrame.plot() in order to create a bar chart of the data\n",
    "avg_state_home['homeownership(%)'][-3:].plot(kind=\"bar\", figsize=(20,3))\n",
    "\n",
    "# Set a title for the chart\n",
    "plt.title(\"Average Homeownership\")\n",
    "\n",
    "plt.show()\n",
    "plt.tight_layout()"
   ]
  },
  {
   "cell_type": "code",
   "execution_count": 92,
   "metadata": {},
   "outputs": [
    {
     "data": {
      "text/html": [
       "<div>\n",
       "<style scoped>\n",
       "    .dataframe tbody tr th:only-of-type {\n",
       "        vertical-align: middle;\n",
       "    }\n",
       "\n",
       "    .dataframe tbody tr th {\n",
       "        vertical-align: top;\n",
       "    }\n",
       "\n",
       "    .dataframe thead th {\n",
       "        text-align: right;\n",
       "    }\n",
       "</style>\n",
       "<table border=\"1\" class=\"dataframe\">\n",
       "  <thead>\n",
       "    <tr style=\"text-align: right;\">\n",
       "      <th></th>\n",
       "      <th>year</th>\n",
       "      <th>state</th>\n",
       "      <th>state_abbrev</th>\n",
       "      <th>GDP</th>\n",
       "      <th>homeownership(%)</th>\n",
       "      <th>unemployment_rate</th>\n",
       "      <th>population(thousands)</th>\n",
       "      <th>median income</th>\n",
       "      <th>avg house data</th>\n",
       "    </tr>\n",
       "  </thead>\n",
       "  <tbody>\n",
       "    <tr>\n",
       "      <th>0</th>\n",
       "      <td>1997</td>\n",
       "      <td>Alabama</td>\n",
       "      <td>AL</td>\n",
       "      <td>143646</td>\n",
       "      <td>71.30</td>\n",
       "      <td>5.00</td>\n",
       "      <td>4320</td>\n",
       "      <td>49983</td>\n",
       "      <td>191.43</td>\n",
       "    </tr>\n",
       "    <tr>\n",
       "      <th>1</th>\n",
       "      <td>1998</td>\n",
       "      <td>Alabama</td>\n",
       "      <td>AL</td>\n",
       "      <td>148596</td>\n",
       "      <td>72.90</td>\n",
       "      <td>4.40</td>\n",
       "      <td>4351</td>\n",
       "      <td>55997</td>\n",
       "      <td>201.27</td>\n",
       "    </tr>\n",
       "    <tr>\n",
       "      <th>2</th>\n",
       "      <td>1999</td>\n",
       "      <td>Alabama</td>\n",
       "      <td>AL</td>\n",
       "      <td>154094</td>\n",
       "      <td>74.80</td>\n",
       "      <td>4.70</td>\n",
       "      <td>4370</td>\n",
       "      <td>54806</td>\n",
       "      <td>206.43</td>\n",
       "    </tr>\n",
       "    <tr>\n",
       "      <th>3</th>\n",
       "      <td>2000</td>\n",
       "      <td>Alabama</td>\n",
       "      <td>AL</td>\n",
       "      <td>156560</td>\n",
       "      <td>73.20</td>\n",
       "      <td>4.60</td>\n",
       "      <td>4452</td>\n",
       "      <td>49989</td>\n",
       "      <td>211.62</td>\n",
       "    </tr>\n",
       "    <tr>\n",
       "      <th>4</th>\n",
       "      <td>2001</td>\n",
       "      <td>Alabama</td>\n",
       "      <td>AL</td>\n",
       "      <td>156404</td>\n",
       "      <td>73.20</td>\n",
       "      <td>5.10</td>\n",
       "      <td>4468</td>\n",
       "      <td>51798</td>\n",
       "      <td>223.33</td>\n",
       "    </tr>\n",
       "  </tbody>\n",
       "</table>\n",
       "</div>"
      ],
      "text/plain": [
       "   year    state state_abbrev     GDP  homeownership(%)  unemployment_rate  \\\n",
       "0  1997  Alabama           AL  143646             71.30               5.00   \n",
       "1  1998  Alabama           AL  148596             72.90               4.40   \n",
       "2  1999  Alabama           AL  154094             74.80               4.70   \n",
       "3  2000  Alabama           AL  156560             73.20               4.60   \n",
       "4  2001  Alabama           AL  156404             73.20               5.10   \n",
       "\n",
       "   population(thousands)  median income  avg house data  \n",
       "0                   4320          49983          191.43  \n",
       "1                   4351          55997          201.27  \n",
       "2                   4370          54806          206.43  \n",
       "3                   4452          49989          211.62  \n",
       "4                   4468          51798          223.33  "
      ]
     },
     "execution_count": 92,
     "metadata": {},
     "output_type": "execute_result"
    }
   ],
   "source": [
    "#Jack\n",
    "jack_data = pd.read_csv(\"Resources/Project1_dataset.csv\")\n",
    "jack_data.head()"
   ]
  },
  {
   "cell_type": "code",
   "execution_count": 93,
   "metadata": {},
   "outputs": [
    {
     "data": {
      "text/plain": [
       "year  GDP    state       \n",
       "1997  14724  Wyoming         52306\n",
       "      15415  Vermont         67226\n",
       "      22411  North Dakota    60805\n",
       "      24976  South Dakota    46470\n",
       "      29169  Montana         45716\n",
       "Name: median income, dtype: int64"
      ]
     },
     "execution_count": 93,
     "metadata": {},
     "output_type": "execute_result"
    }
   ],
   "source": [
    "income_grouped = jack_data.groupby([\"year\", \"GDP\", \"state\"])[\"median income\"]\n",
    "med_income_mean = income_grouped.mean()\n",
    "med_income_mean.head()"
   ]
  },
  {
   "cell_type": "code",
   "execution_count": 94,
   "metadata": {},
   "outputs": [
    {
     "data": {
      "text/html": [
       "<div>\n",
       "<style scoped>\n",
       "    .dataframe tbody tr th:only-of-type {\n",
       "        vertical-align: middle;\n",
       "    }\n",
       "\n",
       "    .dataframe tbody tr th {\n",
       "        vertical-align: top;\n",
       "    }\n",
       "\n",
       "    .dataframe thead th {\n",
       "        text-align: right;\n",
       "    }\n",
       "</style>\n",
       "<table border=\"1\" class=\"dataframe\">\n",
       "  <thead>\n",
       "    <tr style=\"text-align: right;\">\n",
       "      <th></th>\n",
       "      <th>year</th>\n",
       "      <th>GDP</th>\n",
       "      <th>state</th>\n",
       "      <th>median income</th>\n",
       "    </tr>\n",
       "  </thead>\n",
       "  <tbody>\n",
       "    <tr>\n",
       "      <th>0</th>\n",
       "      <td>1997</td>\n",
       "      <td>14724</td>\n",
       "      <td>Wyoming</td>\n",
       "      <td>52306</td>\n",
       "    </tr>\n",
       "    <tr>\n",
       "      <th>1</th>\n",
       "      <td>1997</td>\n",
       "      <td>15415</td>\n",
       "      <td>Vermont</td>\n",
       "      <td>67226</td>\n",
       "    </tr>\n",
       "    <tr>\n",
       "      <th>2</th>\n",
       "      <td>1997</td>\n",
       "      <td>22411</td>\n",
       "      <td>North Dakota</td>\n",
       "      <td>60805</td>\n",
       "    </tr>\n",
       "    <tr>\n",
       "      <th>3</th>\n",
       "      <td>1997</td>\n",
       "      <td>24976</td>\n",
       "      <td>South Dakota</td>\n",
       "      <td>46470</td>\n",
       "    </tr>\n",
       "    <tr>\n",
       "      <th>4</th>\n",
       "      <td>1997</td>\n",
       "      <td>29169</td>\n",
       "      <td>Montana</td>\n",
       "      <td>45716</td>\n",
       "    </tr>\n",
       "  </tbody>\n",
       "</table>\n",
       "</div>"
      ],
      "text/plain": [
       "   year    GDP         state  median income\n",
       "0  1997  14724       Wyoming          52306\n",
       "1  1997  15415       Vermont          67226\n",
       "2  1997  22411  North Dakota          60805\n",
       "3  1997  24976  South Dakota          46470\n",
       "4  1997  29169       Montana          45716"
      ]
     },
     "execution_count": 94,
     "metadata": {},
     "output_type": "execute_result"
    }
   ],
   "source": [
    "median_income = pd.DataFrame(med_income_mean)\n",
    "median_income = med_income_mean.reset_index()\n",
    "median_income.head()"
   ]
  },
  {
   "cell_type": "code",
   "execution_count": 95,
   "metadata": {},
   "outputs": [
    {
     "data": {
      "text/html": [
       "<div>\n",
       "<style scoped>\n",
       "    .dataframe tbody tr th:only-of-type {\n",
       "        vertical-align: middle;\n",
       "    }\n",
       "\n",
       "    .dataframe tbody tr th {\n",
       "        vertical-align: top;\n",
       "    }\n",
       "\n",
       "    .dataframe thead th {\n",
       "        text-align: right;\n",
       "    }\n",
       "</style>\n",
       "<table border=\"1\" class=\"dataframe\">\n",
       "  <thead>\n",
       "    <tr style=\"text-align: right;\">\n",
       "      <th>state</th>\n",
       "      <th>Alabama</th>\n",
       "      <th>Alaska</th>\n",
       "      <th>Arizona</th>\n",
       "      <th>Arkansas</th>\n",
       "      <th>California</th>\n",
       "      <th>Colorado</th>\n",
       "      <th>Connecticut</th>\n",
       "      <th>Delaware</th>\n",
       "      <th>Florida</th>\n",
       "      <th>Georgia</th>\n",
       "      <th>...</th>\n",
       "      <th>South Dakota</th>\n",
       "      <th>Tennesse</th>\n",
       "      <th>Texas</th>\n",
       "      <th>Utah</th>\n",
       "      <th>Vermont</th>\n",
       "      <th>Virginia</th>\n",
       "      <th>Washington</th>\n",
       "      <th>West Virginia</th>\n",
       "      <th>Wisconsin</th>\n",
       "      <th>Wyoming</th>\n",
       "    </tr>\n",
       "    <tr>\n",
       "      <th>year</th>\n",
       "      <th></th>\n",
       "      <th></th>\n",
       "      <th></th>\n",
       "      <th></th>\n",
       "      <th></th>\n",
       "      <th></th>\n",
       "      <th></th>\n",
       "      <th></th>\n",
       "      <th></th>\n",
       "      <th></th>\n",
       "      <th></th>\n",
       "      <th></th>\n",
       "      <th></th>\n",
       "      <th></th>\n",
       "      <th></th>\n",
       "      <th></th>\n",
       "      <th></th>\n",
       "      <th></th>\n",
       "      <th></th>\n",
       "      <th></th>\n",
       "      <th></th>\n",
       "    </tr>\n",
       "  </thead>\n",
       "  <tbody>\n",
       "    <tr>\n",
       "      <th>1997</th>\n",
       "      <td>49983</td>\n",
       "      <td>77275</td>\n",
       "      <td>40942</td>\n",
       "      <td>51237</td>\n",
       "      <td>62120</td>\n",
       "      <td>67658</td>\n",
       "      <td>68835</td>\n",
       "      <td>67345</td>\n",
       "      <td>50791</td>\n",
       "      <td>57376</td>\n",
       "      <td>...</td>\n",
       "      <td>46470</td>\n",
       "      <td>47944</td>\n",
       "      <td>54891</td>\n",
       "      <td>66941</td>\n",
       "      <td>67226</td>\n",
       "      <td>54857</td>\n",
       "      <td>69738</td>\n",
       "      <td>61965</td>\n",
       "      <td>43018</td>\n",
       "      <td>52306</td>\n",
       "    </tr>\n",
       "    <tr>\n",
       "      <th>1998</th>\n",
       "      <td>55997</td>\n",
       "      <td>77703</td>\n",
       "      <td>42716</td>\n",
       "      <td>57269</td>\n",
       "      <td>63204</td>\n",
       "      <td>71951</td>\n",
       "      <td>71811</td>\n",
       "      <td>64013</td>\n",
       "      <td>53901</td>\n",
       "      <td>59701</td>\n",
       "      <td>...</td>\n",
       "      <td>50623</td>\n",
       "      <td>52638</td>\n",
       "      <td>55251</td>\n",
       "      <td>68400</td>\n",
       "      <td>66941</td>\n",
       "      <td>60792</td>\n",
       "      <td>73220</td>\n",
       "      <td>63811</td>\n",
       "      <td>41232</td>\n",
       "      <td>54428</td>\n",
       "    </tr>\n",
       "    <tr>\n",
       "      <th>1999</th>\n",
       "      <td>54806</td>\n",
       "      <td>81556</td>\n",
       "      <td>44875</td>\n",
       "      <td>55931</td>\n",
       "      <td>65961</td>\n",
       "      <td>72837</td>\n",
       "      <td>76489</td>\n",
       "      <td>70495</td>\n",
       "      <td>54171</td>\n",
       "      <td>59605</td>\n",
       "      <td>...</td>\n",
       "      <td>54167</td>\n",
       "      <td>55216</td>\n",
       "      <td>58491</td>\n",
       "      <td>69621</td>\n",
       "      <td>69081</td>\n",
       "      <td>62869</td>\n",
       "      <td>68749</td>\n",
       "      <td>69042</td>\n",
       "      <td>44293</td>\n",
       "      <td>56314</td>\n",
       "    </tr>\n",
       "    <tr>\n",
       "      <th>2000</th>\n",
       "      <td>49989</td>\n",
       "      <td>78271</td>\n",
       "      <td>47400</td>\n",
       "      <td>58172</td>\n",
       "      <td>67195</td>\n",
       "      <td>70538</td>\n",
       "      <td>73363</td>\n",
       "      <td>73646</td>\n",
       "      <td>56817</td>\n",
       "      <td>61269</td>\n",
       "      <td>...</td>\n",
       "      <td>53335</td>\n",
       "      <td>50875</td>\n",
       "      <td>56456</td>\n",
       "      <td>69529</td>\n",
       "      <td>68964</td>\n",
       "      <td>57896</td>\n",
       "      <td>62182</td>\n",
       "      <td>65929</td>\n",
       "      <td>43006</td>\n",
       "      <td>57947</td>\n",
       "    </tr>\n",
       "    <tr>\n",
       "      <th>2001</th>\n",
       "      <td>51798</td>\n",
       "      <td>70945</td>\n",
       "      <td>43424</td>\n",
       "      <td>60715</td>\n",
       "      <td>68456</td>\n",
       "      <td>70231</td>\n",
       "      <td>74726</td>\n",
       "      <td>69495</td>\n",
       "      <td>51782</td>\n",
       "      <td>60533</td>\n",
       "      <td>...</td>\n",
       "      <td>56403</td>\n",
       "      <td>49856</td>\n",
       "      <td>58093</td>\n",
       "      <td>67309</td>\n",
       "      <td>71431</td>\n",
       "      <td>57999</td>\n",
       "      <td>60411</td>\n",
       "      <td>64471</td>\n",
       "      <td>42188</td>\n",
       "      <td>56471</td>\n",
       "    </tr>\n",
       "  </tbody>\n",
       "</table>\n",
       "<p>5 rows × 50 columns</p>\n",
       "</div>"
      ],
      "text/plain": [
       "state  Alabama  Alaska  Arizona  Arkansas  California  Colorado  Connecticut  \\\n",
       "year                                                                           \n",
       "1997     49983   77275    40942     51237       62120     67658        68835   \n",
       "1998     55997   77703    42716     57269       63204     71951        71811   \n",
       "1999     54806   81556    44875     55931       65961     72837        76489   \n",
       "2000     49989   78271    47400     58172       67195     70538        73363   \n",
       "2001     51798   70945    43424     60715       68456     70231        74726   \n",
       "\n",
       "state  Delaware  Florida  Georgia  ...  South Dakota  Tennesse  Texas   Utah  \\\n",
       "year                               ...                                         \n",
       "1997      67345    50791    57376  ...         46470     47944  54891  66941   \n",
       "1998      64013    53901    59701  ...         50623     52638  55251  68400   \n",
       "1999      70495    54171    59605  ...         54167     55216  58491  69621   \n",
       "2000      73646    56817    61269  ...         53335     50875  56456  69529   \n",
       "2001      69495    51782    60533  ...         56403     49856  58093  67309   \n",
       "\n",
       "state  Vermont  Virginia  Washington  West Virginia  Wisconsin  Wyoming  \n",
       "year                                                                     \n",
       "1997     67226     54857       69738          61965      43018    52306  \n",
       "1998     66941     60792       73220          63811      41232    54428  \n",
       "1999     69081     62869       68749          69042      44293    56314  \n",
       "2000     68964     57896       62182          65929      43006    57947  \n",
       "2001     71431     57999       60411          64471      42188    56471  \n",
       "\n",
       "[5 rows x 50 columns]"
      ]
     },
     "execution_count": 95,
     "metadata": {},
     "output_type": "execute_result"
    }
   ],
   "source": [
    "median_income_pivot = median_income.pivot(index = \"year\", columns = \"state\", values = \"median income\")\n",
    "median_income_pivot.head()"
   ]
  },
  {
   "cell_type": "code",
   "execution_count": 96,
   "metadata": {},
   "outputs": [
    {
     "data": {
      "image/png": "[encoded data removed]",
      "text/plain": [
       "<Figure size 432x288 with 1 Axes>"
      ]
     },
     "metadata": {
      "needs_background": "light"
     },
     "output_type": "display_data"
    }
   ],
   "source": [
    "low_gdp_states = ['Vermont', 'o', 'red'], ['Wyoming', '^', 'blue'], ['North Dakota', 's', 'green']\n",
    "\n",
    "for state, mark, color in low_gdp_states:\n",
    "    median_income_plot = plt.plot(median_income_pivot.index, median_income_pivot[state], marker=mark, \n",
    "                                  color=color, ls='--', label=state, linewidth = 0.5)\n",
    "    \n",
    "#Aesthetics\n",
    "plt.legend(loc='best')\n",
    "plt.xlabel('Year')\n",
    "plt.ylabel('Median Income')\n",
    "plt.title('Median Income year over year')\n",
    "plt.grid()\n",
    "\n",
    "plt.show()"
   ]
  },
  {
   "cell_type": "code",
   "execution_count": 97,
   "metadata": {},
   "outputs": [
    {
     "data": {
      "image/png": "[encoded data removed]",
      "text/plain": [
       "<Figure size 432x288 with 1 Axes>"
      ]
     },
     "metadata": {
      "needs_background": "light"
     },
     "output_type": "display_data"
    }
   ],
   "source": [
    "high_gdp_states = ['California', 'o', 'red'], ['Texas', '^', 'blue'], ['New York', 's', 'green']\n",
    "\n",
    "for state, mark, color in high_gdp_states:\n",
    "    median_income_plot = plt.plot(median_income_pivot.index, median_income_pivot[state], marker=mark, \n",
    "                                  color=color, ls='--', label=state, linewidth = 0.5)\n",
    "    \n",
    "#Aesthetics\n",
    "plt.legend(loc='best')\n",
    "plt.xlabel('Year')\n",
    "plt.ylabel('Median Income')\n",
    "plt.title('Median Income year over year')\n",
    "plt.grid()\n",
    "\n",
    "plt.show()"
   ]
  },
  {
   "cell_type": "code",
   "execution_count": 98,
   "metadata": {},
   "outputs": [
    {
     "data": {
      "text/plain": [
       "year  GDP    state       \n",
       "1997  14724  Wyoming        67.60\n",
       "      15415  Vermont        69.10\n",
       "      22411  North Dakota   68.10\n",
       "      24976  South Dakota   67.60\n",
       "      29169  Montana        67.50\n",
       "Name: homeownership(%), dtype: float64"
      ]
     },
     "execution_count": 98,
     "metadata": {},
     "output_type": "execute_result"
    }
   ],
   "source": [
    "homeowner_grouped = jack_data.groupby([\"year\", \"GDP\", \"state\"])[\"homeownership(%)\"]\n",
    "homeowner_mean = homeowner_grouped.mean()\n",
    "homeowner_mean.head()"
   ]
  },
  {
   "cell_type": "code",
   "execution_count": 99,
   "metadata": {},
   "outputs": [
    {
     "data": {
      "text/html": [
       "<div>\n",
       "<style scoped>\n",
       "    .dataframe tbody tr th:only-of-type {\n",
       "        vertical-align: middle;\n",
       "    }\n",
       "\n",
       "    .dataframe tbody tr th {\n",
       "        vertical-align: top;\n",
       "    }\n",
       "\n",
       "    .dataframe thead th {\n",
       "        text-align: right;\n",
       "    }\n",
       "</style>\n",
       "<table border=\"1\" class=\"dataframe\">\n",
       "  <thead>\n",
       "    <tr style=\"text-align: right;\">\n",
       "      <th></th>\n",
       "      <th>year</th>\n",
       "      <th>GDP</th>\n",
       "      <th>state</th>\n",
       "      <th>homeownership(%)</th>\n",
       "    </tr>\n",
       "  </thead>\n",
       "  <tbody>\n",
       "    <tr>\n",
       "      <th>0</th>\n",
       "      <td>1997</td>\n",
       "      <td>14724</td>\n",
       "      <td>Wyoming</td>\n",
       "      <td>67.60</td>\n",
       "    </tr>\n",
       "    <tr>\n",
       "      <th>1</th>\n",
       "      <td>1997</td>\n",
       "      <td>15415</td>\n",
       "      <td>Vermont</td>\n",
       "      <td>69.10</td>\n",
       "    </tr>\n",
       "    <tr>\n",
       "      <th>2</th>\n",
       "      <td>1997</td>\n",
       "      <td>22411</td>\n",
       "      <td>North Dakota</td>\n",
       "      <td>68.10</td>\n",
       "    </tr>\n",
       "    <tr>\n",
       "      <th>3</th>\n",
       "      <td>1997</td>\n",
       "      <td>24976</td>\n",
       "      <td>South Dakota</td>\n",
       "      <td>67.60</td>\n",
       "    </tr>\n",
       "    <tr>\n",
       "      <th>4</th>\n",
       "      <td>1997</td>\n",
       "      <td>29169</td>\n",
       "      <td>Montana</td>\n",
       "      <td>67.50</td>\n",
       "    </tr>\n",
       "  </tbody>\n",
       "</table>\n",
       "</div>"
      ],
      "text/plain": [
       "   year    GDP         state  homeownership(%)\n",
       "0  1997  14724       Wyoming             67.60\n",
       "1  1997  15415       Vermont             69.10\n",
       "2  1997  22411  North Dakota             68.10\n",
       "3  1997  24976  South Dakota             67.60\n",
       "4  1997  29169       Montana             67.50"
      ]
     },
     "execution_count": 99,
     "metadata": {},
     "output_type": "execute_result"
    }
   ],
   "source": [
    "homeownership = pd.DataFrame(homeowner_mean)\n",
    "homeownership = homeownership.reset_index()\n",
    "homeownership.head()"
   ]
  },
  {
   "cell_type": "code",
   "execution_count": 100,
   "metadata": {},
   "outputs": [
    {
     "data": {
      "text/html": [
       "<div>\n",
       "<style scoped>\n",
       "    .dataframe tbody tr th:only-of-type {\n",
       "        vertical-align: middle;\n",
       "    }\n",
       "\n",
       "    .dataframe tbody tr th {\n",
       "        vertical-align: top;\n",
       "    }\n",
       "\n",
       "    .dataframe thead th {\n",
       "        text-align: right;\n",
       "    }\n",
       "</style>\n",
       "<table border=\"1\" class=\"dataframe\">\n",
       "  <thead>\n",
       "    <tr style=\"text-align: right;\">\n",
       "      <th>state</th>\n",
       "      <th>Alabama</th>\n",
       "      <th>Alaska</th>\n",
       "      <th>Arizona</th>\n",
       "      <th>Arkansas</th>\n",
       "      <th>California</th>\n",
       "      <th>Colorado</th>\n",
       "      <th>Connecticut</th>\n",
       "      <th>Delaware</th>\n",
       "      <th>Florida</th>\n",
       "      <th>Georgia</th>\n",
       "      <th>...</th>\n",
       "      <th>South Dakota</th>\n",
       "      <th>Tennesse</th>\n",
       "      <th>Texas</th>\n",
       "      <th>Utah</th>\n",
       "      <th>Vermont</th>\n",
       "      <th>Virginia</th>\n",
       "      <th>Washington</th>\n",
       "      <th>West Virginia</th>\n",
       "      <th>Wisconsin</th>\n",
       "      <th>Wyoming</th>\n",
       "    </tr>\n",
       "    <tr>\n",
       "      <th>year</th>\n",
       "      <th></th>\n",
       "      <th></th>\n",
       "      <th></th>\n",
       "      <th></th>\n",
       "      <th></th>\n",
       "      <th></th>\n",
       "      <th></th>\n",
       "      <th></th>\n",
       "      <th></th>\n",
       "      <th></th>\n",
       "      <th></th>\n",
       "      <th></th>\n",
       "      <th></th>\n",
       "      <th></th>\n",
       "      <th></th>\n",
       "      <th></th>\n",
       "      <th></th>\n",
       "      <th></th>\n",
       "      <th></th>\n",
       "      <th></th>\n",
       "      <th></th>\n",
       "    </tr>\n",
       "  </thead>\n",
       "  <tbody>\n",
       "    <tr>\n",
       "      <th>1997</th>\n",
       "      <td>71.30</td>\n",
       "      <td>67.20</td>\n",
       "      <td>63.00</td>\n",
       "      <td>66.70</td>\n",
       "      <td>55.70</td>\n",
       "      <td>64.10</td>\n",
       "      <td>68.10</td>\n",
       "      <td>69.20</td>\n",
       "      <td>66.90</td>\n",
       "      <td>70.90</td>\n",
       "      <td>...</td>\n",
       "      <td>67.60</td>\n",
       "      <td>70.20</td>\n",
       "      <td>61.50</td>\n",
       "      <td>72.50</td>\n",
       "      <td>69.10</td>\n",
       "      <td>68.40</td>\n",
       "      <td>62.90</td>\n",
       "      <td>74.60</td>\n",
       "      <td>68.30</td>\n",
       "      <td>67.60</td>\n",
       "    </tr>\n",
       "    <tr>\n",
       "      <th>1998</th>\n",
       "      <td>72.90</td>\n",
       "      <td>66.30</td>\n",
       "      <td>64.30</td>\n",
       "      <td>66.70</td>\n",
       "      <td>56.00</td>\n",
       "      <td>65.20</td>\n",
       "      <td>69.30</td>\n",
       "      <td>71.00</td>\n",
       "      <td>66.90</td>\n",
       "      <td>71.20</td>\n",
       "      <td>...</td>\n",
       "      <td>67.30</td>\n",
       "      <td>71.30</td>\n",
       "      <td>62.50</td>\n",
       "      <td>73.70</td>\n",
       "      <td>69.10</td>\n",
       "      <td>69.40</td>\n",
       "      <td>64.90</td>\n",
       "      <td>74.80</td>\n",
       "      <td>70.10</td>\n",
       "      <td>70.00</td>\n",
       "    </tr>\n",
       "    <tr>\n",
       "      <th>1999</th>\n",
       "      <td>74.80</td>\n",
       "      <td>66.40</td>\n",
       "      <td>66.30</td>\n",
       "      <td>65.60</td>\n",
       "      <td>55.70</td>\n",
       "      <td>68.10</td>\n",
       "      <td>69.10</td>\n",
       "      <td>71.60</td>\n",
       "      <td>67.60</td>\n",
       "      <td>71.30</td>\n",
       "      <td>...</td>\n",
       "      <td>70.70</td>\n",
       "      <td>71.90</td>\n",
       "      <td>62.90</td>\n",
       "      <td>74.70</td>\n",
       "      <td>69.10</td>\n",
       "      <td>71.20</td>\n",
       "      <td>64.80</td>\n",
       "      <td>74.80</td>\n",
       "      <td>70.90</td>\n",
       "      <td>69.80</td>\n",
       "    </tr>\n",
       "    <tr>\n",
       "      <th>2000</th>\n",
       "      <td>73.20</td>\n",
       "      <td>66.40</td>\n",
       "      <td>68.00</td>\n",
       "      <td>68.90</td>\n",
       "      <td>57.10</td>\n",
       "      <td>68.30</td>\n",
       "      <td>70.00</td>\n",
       "      <td>72.00</td>\n",
       "      <td>68.40</td>\n",
       "      <td>69.80</td>\n",
       "      <td>...</td>\n",
       "      <td>71.20</td>\n",
       "      <td>70.90</td>\n",
       "      <td>63.80</td>\n",
       "      <td>72.70</td>\n",
       "      <td>68.70</td>\n",
       "      <td>73.90</td>\n",
       "      <td>63.60</td>\n",
       "      <td>75.90</td>\n",
       "      <td>71.80</td>\n",
       "      <td>71.00</td>\n",
       "    </tr>\n",
       "    <tr>\n",
       "      <th>2001</th>\n",
       "      <td>73.20</td>\n",
       "      <td>65.30</td>\n",
       "      <td>68.10</td>\n",
       "      <td>71.20</td>\n",
       "      <td>58.20</td>\n",
       "      <td>68.50</td>\n",
       "      <td>71.80</td>\n",
       "      <td>75.40</td>\n",
       "      <td>69.20</td>\n",
       "      <td>70.10</td>\n",
       "      <td>...</td>\n",
       "      <td>71.50</td>\n",
       "      <td>69.70</td>\n",
       "      <td>63.90</td>\n",
       "      <td>72.40</td>\n",
       "      <td>69.80</td>\n",
       "      <td>75.10</td>\n",
       "      <td>66.40</td>\n",
       "      <td>76.40</td>\n",
       "      <td>72.30</td>\n",
       "      <td>73.50</td>\n",
       "    </tr>\n",
       "  </tbody>\n",
       "</table>\n",
       "<p>5 rows × 50 columns</p>\n",
       "</div>"
      ],
      "text/plain": [
       "state  Alabama  Alaska  Arizona  Arkansas  California  Colorado  Connecticut  \\\n",
       "year                                                                           \n",
       "1997     71.30   67.20    63.00     66.70       55.70     64.10        68.10   \n",
       "1998     72.90   66.30    64.30     66.70       56.00     65.20        69.30   \n",
       "1999     74.80   66.40    66.30     65.60       55.70     68.10        69.10   \n",
       "2000     73.20   66.40    68.00     68.90       57.10     68.30        70.00   \n",
       "2001     73.20   65.30    68.10     71.20       58.20     68.50        71.80   \n",
       "\n",
       "state  Delaware  Florida  Georgia  ...  South Dakota  Tennesse  Texas  Utah  \\\n",
       "year                               ...                                        \n",
       "1997      69.20    66.90    70.90  ...         67.60     70.20  61.50 72.50   \n",
       "1998      71.00    66.90    71.20  ...         67.30     71.30  62.50 73.70   \n",
       "1999      71.60    67.60    71.30  ...         70.70     71.90  62.90 74.70   \n",
       "2000      72.00    68.40    69.80  ...         71.20     70.90  63.80 72.70   \n",
       "2001      75.40    69.20    70.10  ...         71.50     69.70  63.90 72.40   \n",
       "\n",
       "state  Vermont  Virginia  Washington  West Virginia  Wisconsin  Wyoming  \n",
       "year                                                                     \n",
       "1997     69.10     68.40       62.90          74.60      68.30    67.60  \n",
       "1998     69.10     69.40       64.90          74.80      70.10    70.00  \n",
       "1999     69.10     71.20       64.80          74.80      70.90    69.80  \n",
       "2000     68.70     73.90       63.60          75.90      71.80    71.00  \n",
       "2001     69.80     75.10       66.40          76.40      72.30    73.50  \n",
       "\n",
       "[5 rows x 50 columns]"
      ]
     },
     "execution_count": 100,
     "metadata": {},
     "output_type": "execute_result"
    }
   ],
   "source": [
    "homeownership_pivot = homeownership.pivot(index = \"year\", columns = \"state\", values = \"homeownership(%)\")\n",
    "homeownership_pivot.head()"
   ]
  },
  {
   "cell_type": "code",
   "execution_count": 101,
   "metadata": {},
   "outputs": [
    {
     "data": {
      "image/png": "[encoded data removed]",
      "text/plain": [
       "<Figure size 432x288 with 1 Axes>"
      ]
     },
     "metadata": {
      "needs_background": "light"
     },
     "output_type": "display_data"
    }
   ],
   "source": [
    "low_gdp_states = ['Vermont', 'o', 'red'], ['Wyoming', '^', 'blue'], ['North Dakota', 's', 'green']\n",
    "\n",
    "for state, mark, color in low_gdp_states:\n",
    "    homeownership_plot = plt.plot(homeownership_pivot.index, homeownership_pivot[state], marker=mark, \n",
    "                                  color=color, ls='--', label=state, linewidth = 0.5)\n",
    "    \n",
    "#Aesthetics\n",
    "plt.legend(loc='best')\n",
    "plt.xlabel('Year')\n",
    "plt.ylabel('Homeownership(%)')\n",
    "plt.title('Homeownership(%) year over year')\n",
    "plt.grid()\n",
    "\n",
    "plt.show()"
   ]
  },
  {
   "cell_type": "code",
   "execution_count": 102,
   "metadata": {},
   "outputs": [
    {
     "data": {
      "image/png": "[encoded data removed]",
      "text/plain": [
       "<Figure size 432x288 with 1 Axes>"
      ]
     },
     "metadata": {
      "needs_background": "light"
     },
     "output_type": "display_data"
    }
   ],
   "source": [
    "high_gdp_states = ['California', 'o', 'red'], ['Texas', '^', 'blue'], ['New York', 's', 'green']\n",
    "\n",
    "for state, mark, color in high_gdp_states:\n",
    "    homeownership_plot = plt.plot(homeownership_pivot.index, homeownership_pivot[state], marker=mark, \n",
    "                                  color=color, ls='--', label=state, linewidth = 0.5)\n",
    "    \n",
    "#Aesthetics\n",
    "plt.legend(loc='best')\n",
    "plt.xlabel('Year')\n",
    "plt.ylabel('Homeownership(%)')\n",
    "plt.title('Homeownership(%) year over year')\n",
    "plt.grid()\n",
    "\n",
    "plt.show()"
   ]
  },
  {
   "cell_type": "code",
   "execution_count": null,
   "metadata": {},
   "outputs": [],
   "source": []
  },
  {
   "cell_type": "code",
   "execution_count": 147,
   "metadata": {},
   "outputs": [
    {
     "name": "stdout",
     "output_type": "stream",
     "text": [
      "slope: -0.001318    intercept: 60047.282245\n"
     ]
    }
   ],
   "source": [
    "x = jack_data[\"GDP\"]\n",
    "y = jack_data[\"median income\"]\n",
    "slope, intercept, r_value, p_value, std_err = stats.linregress(x, y)\n",
    "print(\"slope: %f    intercept: %f\" % (slope, intercept))"
   ]
  },
  {
   "cell_type": "code",
   "execution_count": 148,
   "metadata": {},
   "outputs": [
    {
     "name": "stdout",
     "output_type": "stream",
     "text": [
      "R-squared: 0.002754\n"
     ]
    }
   ],
   "source": [
    "print(\"R-squared: %f\" % r_value**2)"
   ]
  },
  {
   "cell_type": "code",
   "execution_count": 149,
   "metadata": {},
   "outputs": [
    {
     "data": {
      "image/png": "[encoded data removed]",
      "text/plain": [
       "<Figure size 432x288 with 1 Axes>"
      ]
     },
     "metadata": {
      "needs_background": "light"
     },
     "output_type": "display_data"
    }
   ],
   "source": [
    "plt.plot(x, y, 'o', label='original data')\n",
    "plt.plot(x, intercept + slope*x, 'r', label='fitted line')\n",
    "plt.legend()\n",
    "plt.show()"
   ]
  },
  {
   "cell_type": "code",
   "execution_count": 106,
   "metadata": {},
   "outputs": [
    {
     "data": {
      "text/html": [
       "<div>\n",
       "<style scoped>\n",
       "    .dataframe tbody tr th:only-of-type {\n",
       "        vertical-align: middle;\n",
       "    }\n",
       "\n",
       "    .dataframe tbody tr th {\n",
       "        vertical-align: top;\n",
       "    }\n",
       "\n",
       "    .dataframe thead th {\n",
       "        text-align: right;\n",
       "    }\n",
       "</style>\n",
       "<table border=\"1\" class=\"dataframe\">\n",
       "  <thead>\n",
       "    <tr style=\"text-align: right;\">\n",
       "      <th></th>\n",
       "      <th>year</th>\n",
       "      <th>state</th>\n",
       "      <th>state_abbrev</th>\n",
       "      <th>GDP</th>\n",
       "      <th>homeownership(%)</th>\n",
       "      <th>unemployment_rate</th>\n",
       "      <th>population(thousands)</th>\n",
       "      <th>median income</th>\n",
       "      <th>avg house data</th>\n",
       "    </tr>\n",
       "  </thead>\n",
       "  <tbody>\n",
       "    <tr>\n",
       "      <th>0</th>\n",
       "      <td>1997</td>\n",
       "      <td>Alabama</td>\n",
       "      <td>AL</td>\n",
       "      <td>143646</td>\n",
       "      <td>71.30</td>\n",
       "      <td>5.00</td>\n",
       "      <td>4320</td>\n",
       "      <td>49983</td>\n",
       "      <td>191.43</td>\n",
       "    </tr>\n",
       "    <tr>\n",
       "      <th>1</th>\n",
       "      <td>1998</td>\n",
       "      <td>Alabama</td>\n",
       "      <td>AL</td>\n",
       "      <td>148596</td>\n",
       "      <td>72.90</td>\n",
       "      <td>4.40</td>\n",
       "      <td>4351</td>\n",
       "      <td>55997</td>\n",
       "      <td>201.27</td>\n",
       "    </tr>\n",
       "    <tr>\n",
       "      <th>2</th>\n",
       "      <td>1999</td>\n",
       "      <td>Alabama</td>\n",
       "      <td>AL</td>\n",
       "      <td>154094</td>\n",
       "      <td>74.80</td>\n",
       "      <td>4.70</td>\n",
       "      <td>4370</td>\n",
       "      <td>54806</td>\n",
       "      <td>206.43</td>\n",
       "    </tr>\n",
       "    <tr>\n",
       "      <th>3</th>\n",
       "      <td>2000</td>\n",
       "      <td>Alabama</td>\n",
       "      <td>AL</td>\n",
       "      <td>156560</td>\n",
       "      <td>73.20</td>\n",
       "      <td>4.60</td>\n",
       "      <td>4452</td>\n",
       "      <td>49989</td>\n",
       "      <td>211.62</td>\n",
       "    </tr>\n",
       "    <tr>\n",
       "      <th>4</th>\n",
       "      <td>2001</td>\n",
       "      <td>Alabama</td>\n",
       "      <td>AL</td>\n",
       "      <td>156404</td>\n",
       "      <td>73.20</td>\n",
       "      <td>5.10</td>\n",
       "      <td>4468</td>\n",
       "      <td>51798</td>\n",
       "      <td>223.33</td>\n",
       "    </tr>\n",
       "  </tbody>\n",
       "</table>\n",
       "</div>"
      ],
      "text/plain": [
       "   year    state state_abbrev     GDP  homeownership(%)  unemployment_rate  \\\n",
       "0  1997  Alabama           AL  143646             71.30               5.00   \n",
       "1  1998  Alabama           AL  148596             72.90               4.40   \n",
       "2  1999  Alabama           AL  154094             74.80               4.70   \n",
       "3  2000  Alabama           AL  156560             73.20               4.60   \n",
       "4  2001  Alabama           AL  156404             73.20               5.10   \n",
       "\n",
       "   population(thousands)  median income  avg house data  \n",
       "0                   4320          49983          191.43  \n",
       "1                   4351          55997          201.27  \n",
       "2                   4370          54806          206.43  \n",
       "3                   4452          49989          211.62  \n",
       "4                   4468          51798          223.33  "
      ]
     },
     "execution_count": 106,
     "metadata": {},
     "output_type": "execute_result"
    }
   ],
   "source": [
    "csv.head()"
   ]
  },
  {
   "cell_type": "code",
   "execution_count": 107,
   "metadata": {},
   "outputs": [
    {
     "data": {
      "text/html": [
       "<div>\n",
       "<style scoped>\n",
       "    .dataframe tbody tr th:only-of-type {\n",
       "        vertical-align: middle;\n",
       "    }\n",
       "\n",
       "    .dataframe tbody tr th {\n",
       "        vertical-align: top;\n",
       "    }\n",
       "\n",
       "    .dataframe thead th {\n",
       "        text-align: right;\n",
       "    }\n",
       "</style>\n",
       "<table border=\"1\" class=\"dataframe\">\n",
       "  <thead>\n",
       "    <tr style=\"text-align: right;\">\n",
       "      <th></th>\n",
       "      <th>GDP</th>\n",
       "      <th>homeownership(%)</th>\n",
       "      <th>unemployment_rate</th>\n",
       "      <th>population(thousands)</th>\n",
       "      <th>median income</th>\n",
       "      <th>avg house data</th>\n",
       "    </tr>\n",
       "  </thead>\n",
       "  <tbody>\n",
       "    <tr>\n",
       "      <th>0</th>\n",
       "      <td>143646</td>\n",
       "      <td>71.30</td>\n",
       "      <td>5.00</td>\n",
       "      <td>4320</td>\n",
       "      <td>49983</td>\n",
       "      <td>191.43</td>\n",
       "    </tr>\n",
       "    <tr>\n",
       "      <th>1</th>\n",
       "      <td>148596</td>\n",
       "      <td>72.90</td>\n",
       "      <td>4.40</td>\n",
       "      <td>4351</td>\n",
       "      <td>55997</td>\n",
       "      <td>201.27</td>\n",
       "    </tr>\n",
       "    <tr>\n",
       "      <th>2</th>\n",
       "      <td>154094</td>\n",
       "      <td>74.80</td>\n",
       "      <td>4.70</td>\n",
       "      <td>4370</td>\n",
       "      <td>54806</td>\n",
       "      <td>206.43</td>\n",
       "    </tr>\n",
       "    <tr>\n",
       "      <th>3</th>\n",
       "      <td>156560</td>\n",
       "      <td>73.20</td>\n",
       "      <td>4.60</td>\n",
       "      <td>4452</td>\n",
       "      <td>49989</td>\n",
       "      <td>211.62</td>\n",
       "    </tr>\n",
       "    <tr>\n",
       "      <th>4</th>\n",
       "      <td>156404</td>\n",
       "      <td>73.20</td>\n",
       "      <td>5.10</td>\n",
       "      <td>4468</td>\n",
       "      <td>51798</td>\n",
       "      <td>223.33</td>\n",
       "    </tr>\n",
       "  </tbody>\n",
       "</table>\n",
       "</div>"
      ],
      "text/plain": [
       "      GDP  homeownership(%)  unemployment_rate  population(thousands)  \\\n",
       "0  143646             71.30               5.00                   4320   \n",
       "1  148596             72.90               4.40                   4351   \n",
       "2  154094             74.80               4.70                   4370   \n",
       "3  156560             73.20               4.60                   4452   \n",
       "4  156404             73.20               5.10                   4468   \n",
       "\n",
       "   median income  avg house data  \n",
       "0          49983          191.43  \n",
       "1          55997          201.27  \n",
       "2          54806          206.43  \n",
       "3          49989          211.62  \n",
       "4          51798          223.33  "
      ]
     },
     "execution_count": 107,
     "metadata": {},
     "output_type": "execute_result"
    }
   ],
   "source": [
    "csv_data = csv[[\"GDP\", \"homeownership(%)\", \"unemployment_rate\", \"population(thousands)\", \n",
    "                \"median income\", \"avg house data\"]].copy()\n",
    "csv_data.head()"
   ]
  },
  {
   "cell_type": "code",
   "execution_count": 108,
   "metadata": {},
   "outputs": [
    {
     "data": {
      "text/html": [
       "<div>\n",
       "<style scoped>\n",
       "    .dataframe tbody tr th:only-of-type {\n",
       "        vertical-align: middle;\n",
       "    }\n",
       "\n",
       "    .dataframe tbody tr th {\n",
       "        vertical-align: top;\n",
       "    }\n",
       "\n",
       "    .dataframe thead th {\n",
       "        text-align: right;\n",
       "    }\n",
       "</style>\n",
       "<table border=\"1\" class=\"dataframe\">\n",
       "  <thead>\n",
       "    <tr style=\"text-align: right;\">\n",
       "      <th></th>\n",
       "      <th>GDP</th>\n",
       "      <th>homeownership(%)</th>\n",
       "      <th>unemployment_rate</th>\n",
       "      <th>population(thousands)</th>\n",
       "      <th>median income</th>\n",
       "      <th>avg house data</th>\n",
       "    </tr>\n",
       "  </thead>\n",
       "  <tbody>\n",
       "    <tr>\n",
       "      <th>count</th>\n",
       "      <td>1,100.00</td>\n",
       "      <td>1,100.00</td>\n",
       "      <td>1,100.00</td>\n",
       "      <td>1,100.00</td>\n",
       "      <td>1,100.00</td>\n",
       "      <td>1,100.00</td>\n",
       "    </tr>\n",
       "    <tr>\n",
       "      <th>mean</th>\n",
       "      <td>298,982.95</td>\n",
       "      <td>68.72</td>\n",
       "      <td>5.42</td>\n",
       "      <td>6,005.92</td>\n",
       "      <td>59,653.09</td>\n",
       "      <td>312.33</td>\n",
       "    </tr>\n",
       "    <tr>\n",
       "      <th>std</th>\n",
       "      <td>369,931.62</td>\n",
       "      <td>5.24</td>\n",
       "      <td>1.93</td>\n",
       "      <td>6,642.84</td>\n",
       "      <td>9,293.39</td>\n",
       "      <td>110.88</td>\n",
       "    </tr>\n",
       "    <tr>\n",
       "      <th>min</th>\n",
       "      <td>14,724.00</td>\n",
       "      <td>50.20</td>\n",
       "      <td>2.30</td>\n",
       "      <td>480.00</td>\n",
       "      <td>34,916.00</td>\n",
       "      <td>128.77</td>\n",
       "    </tr>\n",
       "    <tr>\n",
       "      <th>25%</th>\n",
       "      <td>70,935.75</td>\n",
       "      <td>66.10</td>\n",
       "      <td>4.10</td>\n",
       "      <td>1,747.75</td>\n",
       "      <td>52,878.00</td>\n",
       "      <td>234.61</td>\n",
       "    </tr>\n",
       "    <tr>\n",
       "      <th>50%</th>\n",
       "      <td>182,700.50</td>\n",
       "      <td>69.60</td>\n",
       "      <td>5.00</td>\n",
       "      <td>4,263.50</td>\n",
       "      <td>58,775.00</td>\n",
       "      <td>286.00</td>\n",
       "    </tr>\n",
       "    <tr>\n",
       "      <th>75%</th>\n",
       "      <td>363,024.75</td>\n",
       "      <td>72.40</td>\n",
       "      <td>6.40</td>\n",
       "      <td>6,828.00</td>\n",
       "      <td>65,932.50</td>\n",
       "      <td>371.68</td>\n",
       "    </tr>\n",
       "    <tr>\n",
       "      <th>max</th>\n",
       "      <td>2,677,939.00</td>\n",
       "      <td>81.30</td>\n",
       "      <td>13.70</td>\n",
       "      <td>39,557.00</td>\n",
       "      <td>86,345.00</td>\n",
       "      <td>794.83</td>\n",
       "    </tr>\n",
       "  </tbody>\n",
       "</table>\n",
       "</div>"
      ],
      "text/plain": [
       "               GDP  homeownership(%)  unemployment_rate  \\\n",
       "count     1,100.00          1,100.00           1,100.00   \n",
       "mean    298,982.95             68.72               5.42   \n",
       "std     369,931.62              5.24               1.93   \n",
       "min      14,724.00             50.20               2.30   \n",
       "25%      70,935.75             66.10               4.10   \n",
       "50%     182,700.50             69.60               5.00   \n",
       "75%     363,024.75             72.40               6.40   \n",
       "max   2,677,939.00             81.30              13.70   \n",
       "\n",
       "       population(thousands)  median income  avg house data  \n",
       "count               1,100.00       1,100.00        1,100.00  \n",
       "mean                6,005.92      59,653.09          312.33  \n",
       "std                 6,642.84       9,293.39          110.88  \n",
       "min                   480.00      34,916.00          128.77  \n",
       "25%                 1,747.75      52,878.00          234.61  \n",
       "50%                 4,263.50      58,775.00          286.00  \n",
       "75%                 6,828.00      65,932.50          371.68  \n",
       "max                39,557.00      86,345.00          794.83  "
      ]
     },
     "execution_count": 108,
     "metadata": {},
     "output_type": "execute_result"
    }
   ],
   "source": [
    "csv_data.describe()"
   ]
  },
  {
   "cell_type": "code",
   "execution_count": 109,
   "metadata": {},
   "outputs": [
    {
     "data": {
      "text/html": [
       "<div>\n",
       "<style scoped>\n",
       "    .dataframe tbody tr th:only-of-type {\n",
       "        vertical-align: middle;\n",
       "    }\n",
       "\n",
       "    .dataframe tbody tr th {\n",
       "        vertical-align: top;\n",
       "    }\n",
       "\n",
       "    .dataframe thead th {\n",
       "        text-align: right;\n",
       "    }\n",
       "</style>\n",
       "<table border=\"1\" class=\"dataframe\">\n",
       "  <thead>\n",
       "    <tr style=\"text-align: right;\">\n",
       "      <th></th>\n",
       "      <th>GDP</th>\n",
       "      <th>homeownership(%)</th>\n",
       "      <th>unemployment_rate</th>\n",
       "      <th>population(thousands)</th>\n",
       "      <th>median income</th>\n",
       "      <th>avg house data</th>\n",
       "    </tr>\n",
       "  </thead>\n",
       "  <tbody>\n",
       "    <tr>\n",
       "      <th>count</th>\n",
       "      <td>1,100.00</td>\n",
       "      <td>1,100.00</td>\n",
       "      <td>1,100.00</td>\n",
       "      <td>1,100.00</td>\n",
       "      <td>1,100.00</td>\n",
       "      <td>1,100.00</td>\n",
       "    </tr>\n",
       "    <tr>\n",
       "      <th>mean</th>\n",
       "      <td>298,982.95</td>\n",
       "      <td>68.72</td>\n",
       "      <td>5.42</td>\n",
       "      <td>6,005.92</td>\n",
       "      <td>59,653.09</td>\n",
       "      <td>312.33</td>\n",
       "    </tr>\n",
       "    <tr>\n",
       "      <th>std</th>\n",
       "      <td>369,931.62</td>\n",
       "      <td>5.24</td>\n",
       "      <td>1.93</td>\n",
       "      <td>6,642.84</td>\n",
       "      <td>9,293.39</td>\n",
       "      <td>110.88</td>\n",
       "    </tr>\n",
       "    <tr>\n",
       "      <th>min</th>\n",
       "      <td>14,724.00</td>\n",
       "      <td>50.20</td>\n",
       "      <td>2.30</td>\n",
       "      <td>480.00</td>\n",
       "      <td>34,916.00</td>\n",
       "      <td>128.77</td>\n",
       "    </tr>\n",
       "    <tr>\n",
       "      <th>25%</th>\n",
       "      <td>70,935.75</td>\n",
       "      <td>66.10</td>\n",
       "      <td>4.10</td>\n",
       "      <td>1,747.75</td>\n",
       "      <td>52,878.00</td>\n",
       "      <td>234.61</td>\n",
       "    </tr>\n",
       "    <tr>\n",
       "      <th>50%</th>\n",
       "      <td>182,700.50</td>\n",
       "      <td>69.60</td>\n",
       "      <td>5.00</td>\n",
       "      <td>4,263.50</td>\n",
       "      <td>58,775.00</td>\n",
       "      <td>286.00</td>\n",
       "    </tr>\n",
       "    <tr>\n",
       "      <th>75%</th>\n",
       "      <td>363,024.75</td>\n",
       "      <td>72.40</td>\n",
       "      <td>6.40</td>\n",
       "      <td>6,828.00</td>\n",
       "      <td>65,932.50</td>\n",
       "      <td>371.68</td>\n",
       "    </tr>\n",
       "    <tr>\n",
       "      <th>max</th>\n",
       "      <td>2,677,939.00</td>\n",
       "      <td>81.30</td>\n",
       "      <td>13.70</td>\n",
       "      <td>39,557.00</td>\n",
       "      <td>86,345.00</td>\n",
       "      <td>794.83</td>\n",
       "    </tr>\n",
       "  </tbody>\n",
       "</table>\n",
       "</div>"
      ],
      "text/plain": [
       "               GDP  homeownership(%)  unemployment_rate  \\\n",
       "count     1,100.00          1,100.00           1,100.00   \n",
       "mean    298,982.95             68.72               5.42   \n",
       "std     369,931.62              5.24               1.93   \n",
       "min      14,724.00             50.20               2.30   \n",
       "25%      70,935.75             66.10               4.10   \n",
       "50%     182,700.50             69.60               5.00   \n",
       "75%     363,024.75             72.40               6.40   \n",
       "max   2,677,939.00             81.30              13.70   \n",
       "\n",
       "       population(thousands)  median income  avg house data  \n",
       "count               1,100.00       1,100.00        1,100.00  \n",
       "mean                6,005.92      59,653.09          312.33  \n",
       "std                 6,642.84       9,293.39          110.88  \n",
       "min                   480.00      34,916.00          128.77  \n",
       "25%                 1,747.75      52,878.00          234.61  \n",
       "50%                 4,263.50      58,775.00          286.00  \n",
       "75%                 6,828.00      65,932.50          371.68  \n",
       "max                39,557.00      86,345.00          794.83  "
      ]
     },
     "execution_count": 109,
     "metadata": {},
     "output_type": "execute_result"
    }
   ],
   "source": [
    "pd.options.display.float_format = '{:,.2f}'.format\n",
    "csv_data.describe()"
   ]
  },
  {
   "cell_type": "code",
   "execution_count": null,
   "metadata": {},
   "outputs": [],
   "source": []
  },
  {
   "cell_type": "code",
   "execution_count": 110,
   "metadata": {},
   "outputs": [
    {
     "data": {
      "text/html": [
       "<div>\n",
       "<style scoped>\n",
       "    .dataframe tbody tr th:only-of-type {\n",
       "        vertical-align: middle;\n",
       "    }\n",
       "\n",
       "    .dataframe tbody tr th {\n",
       "        vertical-align: top;\n",
       "    }\n",
       "\n",
       "    .dataframe thead th {\n",
       "        text-align: right;\n",
       "    }\n",
       "</style>\n",
       "<table border=\"1\" class=\"dataframe\">\n",
       "  <thead>\n",
       "    <tr style=\"text-align: right;\">\n",
       "      <th>state</th>\n",
       "      <th>Alabama</th>\n",
       "      <th>Alaska</th>\n",
       "      <th>Arizona</th>\n",
       "      <th>Arkansas</th>\n",
       "      <th>California</th>\n",
       "      <th>Colorado</th>\n",
       "      <th>Connecticut</th>\n",
       "      <th>Delaware</th>\n",
       "      <th>Florida</th>\n",
       "      <th>Georgia</th>\n",
       "      <th>...</th>\n",
       "      <th>South Dakota</th>\n",
       "      <th>Tennesse</th>\n",
       "      <th>Texas</th>\n",
       "      <th>Utah</th>\n",
       "      <th>Vermont</th>\n",
       "      <th>Virginia</th>\n",
       "      <th>Washington</th>\n",
       "      <th>West Virginia</th>\n",
       "      <th>Wisconsin</th>\n",
       "      <th>Wyoming</th>\n",
       "    </tr>\n",
       "    <tr>\n",
       "      <th>year</th>\n",
       "      <th></th>\n",
       "      <th></th>\n",
       "      <th></th>\n",
       "      <th></th>\n",
       "      <th></th>\n",
       "      <th></th>\n",
       "      <th></th>\n",
       "      <th></th>\n",
       "      <th></th>\n",
       "      <th></th>\n",
       "      <th></th>\n",
       "      <th></th>\n",
       "      <th></th>\n",
       "      <th></th>\n",
       "      <th></th>\n",
       "      <th></th>\n",
       "      <th></th>\n",
       "      <th></th>\n",
       "      <th></th>\n",
       "      <th></th>\n",
       "      <th></th>\n",
       "    </tr>\n",
       "  </thead>\n",
       "  <tbody>\n",
       "    <tr>\n",
       "      <th>1997</th>\n",
       "      <td>143646</td>\n",
       "      <td>42262</td>\n",
       "      <td>168551</td>\n",
       "      <td>82756</td>\n",
       "      <td>1378654</td>\n",
       "      <td>184193</td>\n",
       "      <td>190791</td>\n",
       "      <td>45231</td>\n",
       "      <td>560888</td>\n",
       "      <td>328995</td>\n",
       "      <td>...</td>\n",
       "      <td>24976</td>\n",
       "      <td>210844</td>\n",
       "      <td>872763</td>\n",
       "      <td>57700</td>\n",
       "      <td>15415</td>\n",
       "      <td>217252</td>\n",
       "      <td>193898</td>\n",
       "      <td>38840</td>\n",
       "      <td>153241</td>\n",
       "      <td>14724</td>\n",
       "    </tr>\n",
       "    <tr>\n",
       "      <th>1998</th>\n",
       "      <td>148596</td>\n",
       "      <td>41157</td>\n",
       "      <td>183138</td>\n",
       "      <td>84795</td>\n",
       "      <td>1470393</td>\n",
       "      <td>201076</td>\n",
       "      <td>196248</td>\n",
       "      <td>49743</td>\n",
       "      <td>590135</td>\n",
       "      <td>352713</td>\n",
       "      <td>...</td>\n",
       "      <td>26452</td>\n",
       "      <td>223769</td>\n",
       "      <td>928374</td>\n",
       "      <td>62291</td>\n",
       "      <td>16073</td>\n",
       "      <td>233096</td>\n",
       "      <td>210205</td>\n",
       "      <td>40086</td>\n",
       "      <td>162523</td>\n",
       "      <td>14928</td>\n",
       "    </tr>\n",
       "    <tr>\n",
       "      <th>1999</th>\n",
       "      <td>154094</td>\n",
       "      <td>40722</td>\n",
       "      <td>198096</td>\n",
       "      <td>89317</td>\n",
       "      <td>1582377</td>\n",
       "      <td>216300</td>\n",
       "      <td>202230</td>\n",
       "      <td>53862</td>\n",
       "      <td>616625</td>\n",
       "      <td>377608</td>\n",
       "      <td>...</td>\n",
       "      <td>27501</td>\n",
       "      <td>230418</td>\n",
       "      <td>965677</td>\n",
       "      <td>66023</td>\n",
       "      <td>17159</td>\n",
       "      <td>249798</td>\n",
       "      <td>230555</td>\n",
       "      <td>41831</td>\n",
       "      <td>172258</td>\n",
       "      <td>15711</td>\n",
       "    </tr>\n",
       "    <tr>\n",
       "      <th>2000</th>\n",
       "      <td>156560</td>\n",
       "      <td>39517</td>\n",
       "      <td>207793</td>\n",
       "      <td>90206</td>\n",
       "      <td>1709939</td>\n",
       "      <td>232752</td>\n",
       "      <td>216370</td>\n",
       "      <td>56109</td>\n",
       "      <td>642693</td>\n",
       "      <td>393195</td>\n",
       "      <td>...</td>\n",
       "      <td>29407</td>\n",
       "      <td>233153</td>\n",
       "      <td>998297</td>\n",
       "      <td>70292</td>\n",
       "      <td>18312</td>\n",
       "      <td>266886</td>\n",
       "      <td>237832</td>\n",
       "      <td>42607</td>\n",
       "      <td>180539</td>\n",
       "      <td>17205</td>\n",
       "    </tr>\n",
       "    <tr>\n",
       "      <th>2001</th>\n",
       "      <td>156404</td>\n",
       "      <td>40974</td>\n",
       "      <td>212656</td>\n",
       "      <td>89923</td>\n",
       "      <td>1702776</td>\n",
       "      <td>236383</td>\n",
       "      <td>220287</td>\n",
       "      <td>58882</td>\n",
       "      <td>658640</td>\n",
       "      <td>396875</td>\n",
       "      <td>...</td>\n",
       "      <td>29746</td>\n",
       "      <td>232723</td>\n",
       "      <td>1021889</td>\n",
       "      <td>73226</td>\n",
       "      <td>19274</td>\n",
       "      <td>284002</td>\n",
       "      <td>239426</td>\n",
       "      <td>43978</td>\n",
       "      <td>187939</td>\n",
       "      <td>18661</td>\n",
       "    </tr>\n",
       "  </tbody>\n",
       "</table>\n",
       "<p>5 rows × 50 columns</p>\n",
       "</div>"
      ],
      "text/plain": [
       "state  Alabama  Alaska  Arizona  Arkansas  California  Colorado  Connecticut  \\\n",
       "year                                                                           \n",
       "1997    143646   42262   168551     82756     1378654    184193       190791   \n",
       "1998    148596   41157   183138     84795     1470393    201076       196248   \n",
       "1999    154094   40722   198096     89317     1582377    216300       202230   \n",
       "2000    156560   39517   207793     90206     1709939    232752       216370   \n",
       "2001    156404   40974   212656     89923     1702776    236383       220287   \n",
       "\n",
       "state  Delaware  Florida  Georgia  ...  South Dakota  Tennesse    Texas  \\\n",
       "year                               ...                                    \n",
       "1997      45231   560888   328995  ...         24976    210844   872763   \n",
       "1998      49743   590135   352713  ...         26452    223769   928374   \n",
       "1999      53862   616625   377608  ...         27501    230418   965677   \n",
       "2000      56109   642693   393195  ...         29407    233153   998297   \n",
       "2001      58882   658640   396875  ...         29746    232723  1021889   \n",
       "\n",
       "state   Utah  Vermont  Virginia  Washington  West Virginia  Wisconsin  Wyoming  \n",
       "year                                                                            \n",
       "1997   57700    15415    217252      193898          38840     153241    14724  \n",
       "1998   62291    16073    233096      210205          40086     162523    14928  \n",
       "1999   66023    17159    249798      230555          41831     172258    15711  \n",
       "2000   70292    18312    266886      237832          42607     180539    17205  \n",
       "2001   73226    19274    284002      239426          43978     187939    18661  \n",
       "\n",
       "[5 rows x 50 columns]"
      ]
     },
     "execution_count": 110,
     "metadata": {},
     "output_type": "execute_result"
    }
   ],
   "source": [
    "gdp_pivot = csv.pivot(index='year', columns='state', values='GDP')\n",
    "gdp_pivot.head()"
   ]
  },
  {
   "cell_type": "code",
   "execution_count": 111,
   "metadata": {},
   "outputs": [
    {
     "data": {
      "text/html": [
       "<div>\n",
       "<style scoped>\n",
       "    .dataframe tbody tr th:only-of-type {\n",
       "        vertical-align: middle;\n",
       "    }\n",
       "\n",
       "    .dataframe tbody tr th {\n",
       "        vertical-align: top;\n",
       "    }\n",
       "\n",
       "    .dataframe thead th {\n",
       "        text-align: right;\n",
       "    }\n",
       "</style>\n",
       "<table border=\"1\" class=\"dataframe\">\n",
       "  <thead>\n",
       "    <tr style=\"text-align: right;\">\n",
       "      <th>state</th>\n",
       "      <th>Alabama</th>\n",
       "      <th>Alaska</th>\n",
       "      <th>Arizona</th>\n",
       "      <th>Arkansas</th>\n",
       "      <th>California</th>\n",
       "      <th>Colorado</th>\n",
       "      <th>Connecticut</th>\n",
       "      <th>Delaware</th>\n",
       "      <th>Florida</th>\n",
       "      <th>Georgia</th>\n",
       "      <th>...</th>\n",
       "      <th>South Dakota</th>\n",
       "      <th>Tennesse</th>\n",
       "      <th>Texas</th>\n",
       "      <th>Utah</th>\n",
       "      <th>Vermont</th>\n",
       "      <th>Virginia</th>\n",
       "      <th>Washington</th>\n",
       "      <th>West Virginia</th>\n",
       "      <th>Wisconsin</th>\n",
       "      <th>Wyoming</th>\n",
       "    </tr>\n",
       "    <tr>\n",
       "      <th>year</th>\n",
       "      <th></th>\n",
       "      <th></th>\n",
       "      <th></th>\n",
       "      <th></th>\n",
       "      <th></th>\n",
       "      <th></th>\n",
       "      <th></th>\n",
       "      <th></th>\n",
       "      <th></th>\n",
       "      <th></th>\n",
       "      <th></th>\n",
       "      <th></th>\n",
       "      <th></th>\n",
       "      <th></th>\n",
       "      <th></th>\n",
       "      <th></th>\n",
       "      <th></th>\n",
       "      <th></th>\n",
       "      <th></th>\n",
       "      <th></th>\n",
       "      <th></th>\n",
       "    </tr>\n",
       "  </thead>\n",
       "  <tbody>\n",
       "    <tr>\n",
       "      <th>1997</th>\n",
       "      <td>71.30</td>\n",
       "      <td>67.20</td>\n",
       "      <td>63.00</td>\n",
       "      <td>66.70</td>\n",
       "      <td>55.70</td>\n",
       "      <td>64.10</td>\n",
       "      <td>68.10</td>\n",
       "      <td>69.20</td>\n",
       "      <td>66.90</td>\n",
       "      <td>70.90</td>\n",
       "      <td>...</td>\n",
       "      <td>67.60</td>\n",
       "      <td>70.20</td>\n",
       "      <td>61.50</td>\n",
       "      <td>72.50</td>\n",
       "      <td>69.10</td>\n",
       "      <td>68.40</td>\n",
       "      <td>62.90</td>\n",
       "      <td>74.60</td>\n",
       "      <td>68.30</td>\n",
       "      <td>67.60</td>\n",
       "    </tr>\n",
       "    <tr>\n",
       "      <th>1998</th>\n",
       "      <td>72.90</td>\n",
       "      <td>66.30</td>\n",
       "      <td>64.30</td>\n",
       "      <td>66.70</td>\n",
       "      <td>56.00</td>\n",
       "      <td>65.20</td>\n",
       "      <td>69.30</td>\n",
       "      <td>71.00</td>\n",
       "      <td>66.90</td>\n",
       "      <td>71.20</td>\n",
       "      <td>...</td>\n",
       "      <td>67.30</td>\n",
       "      <td>71.30</td>\n",
       "      <td>62.50</td>\n",
       "      <td>73.70</td>\n",
       "      <td>69.10</td>\n",
       "      <td>69.40</td>\n",
       "      <td>64.90</td>\n",
       "      <td>74.80</td>\n",
       "      <td>70.10</td>\n",
       "      <td>70.00</td>\n",
       "    </tr>\n",
       "    <tr>\n",
       "      <th>1999</th>\n",
       "      <td>74.80</td>\n",
       "      <td>66.40</td>\n",
       "      <td>66.30</td>\n",
       "      <td>65.60</td>\n",
       "      <td>55.70</td>\n",
       "      <td>68.10</td>\n",
       "      <td>69.10</td>\n",
       "      <td>71.60</td>\n",
       "      <td>67.60</td>\n",
       "      <td>71.30</td>\n",
       "      <td>...</td>\n",
       "      <td>70.70</td>\n",
       "      <td>71.90</td>\n",
       "      <td>62.90</td>\n",
       "      <td>74.70</td>\n",
       "      <td>69.10</td>\n",
       "      <td>71.20</td>\n",
       "      <td>64.80</td>\n",
       "      <td>74.80</td>\n",
       "      <td>70.90</td>\n",
       "      <td>69.80</td>\n",
       "    </tr>\n",
       "    <tr>\n",
       "      <th>2000</th>\n",
       "      <td>73.20</td>\n",
       "      <td>66.40</td>\n",
       "      <td>68.00</td>\n",
       "      <td>68.90</td>\n",
       "      <td>57.10</td>\n",
       "      <td>68.30</td>\n",
       "      <td>70.00</td>\n",
       "      <td>72.00</td>\n",
       "      <td>68.40</td>\n",
       "      <td>69.80</td>\n",
       "      <td>...</td>\n",
       "      <td>71.20</td>\n",
       "      <td>70.90</td>\n",
       "      <td>63.80</td>\n",
       "      <td>72.70</td>\n",
       "      <td>68.70</td>\n",
       "      <td>73.90</td>\n",
       "      <td>63.60</td>\n",
       "      <td>75.90</td>\n",
       "      <td>71.80</td>\n",
       "      <td>71.00</td>\n",
       "    </tr>\n",
       "    <tr>\n",
       "      <th>2001</th>\n",
       "      <td>73.20</td>\n",
       "      <td>65.30</td>\n",
       "      <td>68.10</td>\n",
       "      <td>71.20</td>\n",
       "      <td>58.20</td>\n",
       "      <td>68.50</td>\n",
       "      <td>71.80</td>\n",
       "      <td>75.40</td>\n",
       "      <td>69.20</td>\n",
       "      <td>70.10</td>\n",
       "      <td>...</td>\n",
       "      <td>71.50</td>\n",
       "      <td>69.70</td>\n",
       "      <td>63.90</td>\n",
       "      <td>72.40</td>\n",
       "      <td>69.80</td>\n",
       "      <td>75.10</td>\n",
       "      <td>66.40</td>\n",
       "      <td>76.40</td>\n",
       "      <td>72.30</td>\n",
       "      <td>73.50</td>\n",
       "    </tr>\n",
       "  </tbody>\n",
       "</table>\n",
       "<p>5 rows × 50 columns</p>\n",
       "</div>"
      ],
      "text/plain": [
       "state  Alabama  Alaska  Arizona  Arkansas  California  Colorado  Connecticut  \\\n",
       "year                                                                           \n",
       "1997     71.30   67.20    63.00     66.70       55.70     64.10        68.10   \n",
       "1998     72.90   66.30    64.30     66.70       56.00     65.20        69.30   \n",
       "1999     74.80   66.40    66.30     65.60       55.70     68.10        69.10   \n",
       "2000     73.20   66.40    68.00     68.90       57.10     68.30        70.00   \n",
       "2001     73.20   65.30    68.10     71.20       58.20     68.50        71.80   \n",
       "\n",
       "state  Delaware  Florida  Georgia  ...  South Dakota  Tennesse  Texas  Utah  \\\n",
       "year                               ...                                        \n",
       "1997      69.20    66.90    70.90  ...         67.60     70.20  61.50 72.50   \n",
       "1998      71.00    66.90    71.20  ...         67.30     71.30  62.50 73.70   \n",
       "1999      71.60    67.60    71.30  ...         70.70     71.90  62.90 74.70   \n",
       "2000      72.00    68.40    69.80  ...         71.20     70.90  63.80 72.70   \n",
       "2001      75.40    69.20    70.10  ...         71.50     69.70  63.90 72.40   \n",
       "\n",
       "state  Vermont  Virginia  Washington  West Virginia  Wisconsin  Wyoming  \n",
       "year                                                                     \n",
       "1997     69.10     68.40       62.90          74.60      68.30    67.60  \n",
       "1998     69.10     69.40       64.90          74.80      70.10    70.00  \n",
       "1999     69.10     71.20       64.80          74.80      70.90    69.80  \n",
       "2000     68.70     73.90       63.60          75.90      71.80    71.00  \n",
       "2001     69.80     75.10       66.40          76.40      72.30    73.50  \n",
       "\n",
       "[5 rows x 50 columns]"
      ]
     },
     "execution_count": 111,
     "metadata": {},
     "output_type": "execute_result"
    }
   ],
   "source": [
    "homeownership_pivot = csv.pivot(index = \"year\", columns = \"state\", values = \"homeownership(%)\")\n",
    "homeownership_pivot.head()"
   ]
  },
  {
   "cell_type": "code",
   "execution_count": 112,
   "metadata": {},
   "outputs": [
    {
     "data": {
      "text/html": [
       "<div>\n",
       "<style scoped>\n",
       "    .dataframe tbody tr th:only-of-type {\n",
       "        vertical-align: middle;\n",
       "    }\n",
       "\n",
       "    .dataframe tbody tr th {\n",
       "        vertical-align: top;\n",
       "    }\n",
       "\n",
       "    .dataframe thead th {\n",
       "        text-align: right;\n",
       "    }\n",
       "</style>\n",
       "<table border=\"1\" class=\"dataframe\">\n",
       "  <thead>\n",
       "    <tr style=\"text-align: right;\">\n",
       "      <th>year</th>\n",
       "      <th>1997</th>\n",
       "      <th>1998</th>\n",
       "      <th>1999</th>\n",
       "      <th>2000</th>\n",
       "      <th>2001</th>\n",
       "      <th>2002</th>\n",
       "      <th>2003</th>\n",
       "      <th>2004</th>\n",
       "      <th>2005</th>\n",
       "      <th>2006</th>\n",
       "      <th>...</th>\n",
       "      <th>2009</th>\n",
       "      <th>2010</th>\n",
       "      <th>2011</th>\n",
       "      <th>2012</th>\n",
       "      <th>2013</th>\n",
       "      <th>2014</th>\n",
       "      <th>2015</th>\n",
       "      <th>2016</th>\n",
       "      <th>2017</th>\n",
       "      <th>2018</th>\n",
       "    </tr>\n",
       "    <tr>\n",
       "      <th>state</th>\n",
       "      <th></th>\n",
       "      <th></th>\n",
       "      <th></th>\n",
       "      <th></th>\n",
       "      <th></th>\n",
       "      <th></th>\n",
       "      <th></th>\n",
       "      <th></th>\n",
       "      <th></th>\n",
       "      <th></th>\n",
       "      <th></th>\n",
       "      <th></th>\n",
       "      <th></th>\n",
       "      <th></th>\n",
       "      <th></th>\n",
       "      <th></th>\n",
       "      <th></th>\n",
       "      <th></th>\n",
       "      <th></th>\n",
       "      <th></th>\n",
       "      <th></th>\n",
       "    </tr>\n",
       "  </thead>\n",
       "  <tbody>\n",
       "    <tr>\n",
       "      <th>Alabama</th>\n",
       "      <td>143646</td>\n",
       "      <td>148596</td>\n",
       "      <td>154094</td>\n",
       "      <td>156560</td>\n",
       "      <td>156404</td>\n",
       "      <td>160870</td>\n",
       "      <td>164992</td>\n",
       "      <td>175508</td>\n",
       "      <td>181386</td>\n",
       "      <td>184796</td>\n",
       "      <td>...</td>\n",
       "      <td>178021</td>\n",
       "      <td>182263</td>\n",
       "      <td>185055</td>\n",
       "      <td>186299</td>\n",
       "      <td>188165</td>\n",
       "      <td>186335</td>\n",
       "      <td>188716</td>\n",
       "      <td>189614</td>\n",
       "      <td>193053</td>\n",
       "      <td>196876</td>\n",
       "    </tr>\n",
       "    <tr>\n",
       "      <th>Alaska</th>\n",
       "      <td>42262</td>\n",
       "      <td>41157</td>\n",
       "      <td>40722</td>\n",
       "      <td>39517</td>\n",
       "      <td>40974</td>\n",
       "      <td>42881</td>\n",
       "      <td>42151</td>\n",
       "      <td>43735</td>\n",
       "      <td>45052</td>\n",
       "      <td>48517</td>\n",
       "      <td>...</td>\n",
       "      <td>55838</td>\n",
       "      <td>54151</td>\n",
       "      <td>54646</td>\n",
       "      <td>57670</td>\n",
       "      <td>54750</td>\n",
       "      <td>53209</td>\n",
       "      <td>53585</td>\n",
       "      <td>52608</td>\n",
       "      <td>52492</td>\n",
       "      <td>52311</td>\n",
       "    </tr>\n",
       "    <tr>\n",
       "      <th>Arizona</th>\n",
       "      <td>168551</td>\n",
       "      <td>183138</td>\n",
       "      <td>198096</td>\n",
       "      <td>207793</td>\n",
       "      <td>212656</td>\n",
       "      <td>219311</td>\n",
       "      <td>233342</td>\n",
       "      <td>243246</td>\n",
       "      <td>263061</td>\n",
       "      <td>277288</td>\n",
       "      <td>...</td>\n",
       "      <td>255081</td>\n",
       "      <td>257485</td>\n",
       "      <td>263211</td>\n",
       "      <td>268289</td>\n",
       "      <td>270149</td>\n",
       "      <td>273407</td>\n",
       "      <td>279435</td>\n",
       "      <td>288682</td>\n",
       "      <td>297210</td>\n",
       "      <td>309067</td>\n",
       "    </tr>\n",
       "    <tr>\n",
       "      <th>Arkansas</th>\n",
       "      <td>82756</td>\n",
       "      <td>84795</td>\n",
       "      <td>89317</td>\n",
       "      <td>90206</td>\n",
       "      <td>89923</td>\n",
       "      <td>92885</td>\n",
       "      <td>96545</td>\n",
       "      <td>101210</td>\n",
       "      <td>104653</td>\n",
       "      <td>106940</td>\n",
       "      <td>...</td>\n",
       "      <td>102528</td>\n",
       "      <td>105923</td>\n",
       "      <td>108295</td>\n",
       "      <td>108745</td>\n",
       "      <td>111779</td>\n",
       "      <td>112706</td>\n",
       "      <td>113177</td>\n",
       "      <td>113788</td>\n",
       "      <td>114851</td>\n",
       "      <td>115933</td>\n",
       "    </tr>\n",
       "    <tr>\n",
       "      <th>California</th>\n",
       "      <td>1378654</td>\n",
       "      <td>1470393</td>\n",
       "      <td>1582377</td>\n",
       "      <td>1709939</td>\n",
       "      <td>1702776</td>\n",
       "      <td>1743651</td>\n",
       "      <td>1825424</td>\n",
       "      <td>1902319</td>\n",
       "      <td>1990141</td>\n",
       "      <td>2072177</td>\n",
       "      <td>...</td>\n",
       "      <td>2026487</td>\n",
       "      <td>2058138</td>\n",
       "      <td>2091586</td>\n",
       "      <td>2144497</td>\n",
       "      <td>2220868</td>\n",
       "      <td>2309928</td>\n",
       "      <td>2426143</td>\n",
       "      <td>2498840</td>\n",
       "      <td>2587572</td>\n",
       "      <td>2677939</td>\n",
       "    </tr>\n",
       "  </tbody>\n",
       "</table>\n",
       "<p>5 rows × 22 columns</p>\n",
       "</div>"
      ],
      "text/plain": [
       "year           1997     1998     1999     2000     2001     2002     2003  \\\n",
       "state                                                                       \n",
       "Alabama      143646   148596   154094   156560   156404   160870   164992   \n",
       "Alaska        42262    41157    40722    39517    40974    42881    42151   \n",
       "Arizona      168551   183138   198096   207793   212656   219311   233342   \n",
       "Arkansas      82756    84795    89317    90206    89923    92885    96545   \n",
       "California  1378654  1470393  1582377  1709939  1702776  1743651  1825424   \n",
       "\n",
       "year           2004     2005     2006  ...     2009     2010     2011  \\\n",
       "state                                  ...                              \n",
       "Alabama      175508   181386   184796  ...   178021   182263   185055   \n",
       "Alaska        43735    45052    48517  ...    55838    54151    54646   \n",
       "Arizona      243246   263061   277288  ...   255081   257485   263211   \n",
       "Arkansas     101210   104653   106940  ...   102528   105923   108295   \n",
       "California  1902319  1990141  2072177  ...  2026487  2058138  2091586   \n",
       "\n",
       "year           2012     2013     2014     2015     2016     2017     2018  \n",
       "state                                                                      \n",
       "Alabama      186299   188165   186335   188716   189614   193053   196876  \n",
       "Alaska        57670    54750    53209    53585    52608    52492    52311  \n",
       "Arizona      268289   270149   273407   279435   288682   297210   309067  \n",
       "Arkansas     108745   111779   112706   113177   113788   114851   115933  \n",
       "California  2144497  2220868  2309928  2426143  2498840  2587572  2677939  \n",
       "\n",
       "[5 rows x 22 columns]"
      ]
     },
     "execution_count": 112,
     "metadata": {},
     "output_type": "execute_result"
    }
   ],
   "source": [
    "gdp_pivot_tran = gdp_pivot.transpose()\n",
    "gdp_pivot_tran.head()"
   ]
  },
  {
   "cell_type": "code",
   "execution_count": 113,
   "metadata": {},
   "outputs": [
    {
     "data": {
      "text/html": [
       "<div>\n",
       "<style scoped>\n",
       "    .dataframe tbody tr th:only-of-type {\n",
       "        vertical-align: middle;\n",
       "    }\n",
       "\n",
       "    .dataframe tbody tr th {\n",
       "        vertical-align: top;\n",
       "    }\n",
       "\n",
       "    .dataframe thead th {\n",
       "        text-align: right;\n",
       "    }\n",
       "</style>\n",
       "<table border=\"1\" class=\"dataframe\">\n",
       "  <thead>\n",
       "    <tr style=\"text-align: right;\">\n",
       "      <th>year</th>\n",
       "      <th>1997</th>\n",
       "      <th>1998</th>\n",
       "      <th>1999</th>\n",
       "      <th>2000</th>\n",
       "      <th>2001</th>\n",
       "      <th>2002</th>\n",
       "      <th>2003</th>\n",
       "      <th>2004</th>\n",
       "      <th>2005</th>\n",
       "      <th>2006</th>\n",
       "      <th>...</th>\n",
       "      <th>2009</th>\n",
       "      <th>2010</th>\n",
       "      <th>2011</th>\n",
       "      <th>2012</th>\n",
       "      <th>2013</th>\n",
       "      <th>2014</th>\n",
       "      <th>2015</th>\n",
       "      <th>2016</th>\n",
       "      <th>2017</th>\n",
       "      <th>2018</th>\n",
       "    </tr>\n",
       "    <tr>\n",
       "      <th>state</th>\n",
       "      <th></th>\n",
       "      <th></th>\n",
       "      <th></th>\n",
       "      <th></th>\n",
       "      <th></th>\n",
       "      <th></th>\n",
       "      <th></th>\n",
       "      <th></th>\n",
       "      <th></th>\n",
       "      <th></th>\n",
       "      <th></th>\n",
       "      <th></th>\n",
       "      <th></th>\n",
       "      <th></th>\n",
       "      <th></th>\n",
       "      <th></th>\n",
       "      <th></th>\n",
       "      <th></th>\n",
       "      <th></th>\n",
       "      <th></th>\n",
       "      <th></th>\n",
       "    </tr>\n",
       "  </thead>\n",
       "  <tbody>\n",
       "    <tr>\n",
       "      <th>Alabama</th>\n",
       "      <td>71.30</td>\n",
       "      <td>72.90</td>\n",
       "      <td>74.80</td>\n",
       "      <td>73.20</td>\n",
       "      <td>73.20</td>\n",
       "      <td>73.70</td>\n",
       "      <td>76.20</td>\n",
       "      <td>78.00</td>\n",
       "      <td>76.60</td>\n",
       "      <td>74.20</td>\n",
       "      <td>...</td>\n",
       "      <td>74.10</td>\n",
       "      <td>73.20</td>\n",
       "      <td>72.90</td>\n",
       "      <td>71.90</td>\n",
       "      <td>72.70</td>\n",
       "      <td>72.10</td>\n",
       "      <td>70.00</td>\n",
       "      <td>69.70</td>\n",
       "      <td>70.00</td>\n",
       "      <td>70.30</td>\n",
       "    </tr>\n",
       "    <tr>\n",
       "      <th>Alaska</th>\n",
       "      <td>67.20</td>\n",
       "      <td>66.30</td>\n",
       "      <td>66.40</td>\n",
       "      <td>66.40</td>\n",
       "      <td>65.30</td>\n",
       "      <td>67.10</td>\n",
       "      <td>70.00</td>\n",
       "      <td>67.20</td>\n",
       "      <td>66.00</td>\n",
       "      <td>67.20</td>\n",
       "      <td>...</td>\n",
       "      <td>66.80</td>\n",
       "      <td>65.70</td>\n",
       "      <td>64.40</td>\n",
       "      <td>63.70</td>\n",
       "      <td>64.60</td>\n",
       "      <td>64.90</td>\n",
       "      <td>62.30</td>\n",
       "      <td>65.20</td>\n",
       "      <td>65.50</td>\n",
       "      <td>63.70</td>\n",
       "    </tr>\n",
       "    <tr>\n",
       "      <th>Arizona</th>\n",
       "      <td>63.00</td>\n",
       "      <td>64.30</td>\n",
       "      <td>66.30</td>\n",
       "      <td>68.00</td>\n",
       "      <td>68.10</td>\n",
       "      <td>65.60</td>\n",
       "      <td>67.00</td>\n",
       "      <td>68.70</td>\n",
       "      <td>71.10</td>\n",
       "      <td>71.60</td>\n",
       "      <td>...</td>\n",
       "      <td>68.90</td>\n",
       "      <td>66.60</td>\n",
       "      <td>66.00</td>\n",
       "      <td>65.30</td>\n",
       "      <td>65.10</td>\n",
       "      <td>63.50</td>\n",
       "      <td>61.70</td>\n",
       "      <td>61.90</td>\n",
       "      <td>64.40</td>\n",
       "      <td>65.70</td>\n",
       "    </tr>\n",
       "    <tr>\n",
       "      <th>Arkansas</th>\n",
       "      <td>66.70</td>\n",
       "      <td>66.70</td>\n",
       "      <td>65.60</td>\n",
       "      <td>68.90</td>\n",
       "      <td>71.20</td>\n",
       "      <td>70.30</td>\n",
       "      <td>69.60</td>\n",
       "      <td>69.10</td>\n",
       "      <td>69.20</td>\n",
       "      <td>70.80</td>\n",
       "      <td>...</td>\n",
       "      <td>68.50</td>\n",
       "      <td>67.90</td>\n",
       "      <td>67.60</td>\n",
       "      <td>66.00</td>\n",
       "      <td>65.40</td>\n",
       "      <td>65.40</td>\n",
       "      <td>67.10</td>\n",
       "      <td>67.60</td>\n",
       "      <td>65.00</td>\n",
       "      <td>64.70</td>\n",
       "    </tr>\n",
       "    <tr>\n",
       "      <th>California</th>\n",
       "      <td>55.70</td>\n",
       "      <td>56.00</td>\n",
       "      <td>55.70</td>\n",
       "      <td>57.10</td>\n",
       "      <td>58.20</td>\n",
       "      <td>57.70</td>\n",
       "      <td>58.90</td>\n",
       "      <td>59.70</td>\n",
       "      <td>59.70</td>\n",
       "      <td>60.20</td>\n",
       "      <td>...</td>\n",
       "      <td>57.00</td>\n",
       "      <td>56.10</td>\n",
       "      <td>55.30</td>\n",
       "      <td>54.50</td>\n",
       "      <td>54.30</td>\n",
       "      <td>54.20</td>\n",
       "      <td>54.30</td>\n",
       "      <td>53.80</td>\n",
       "      <td>54.40</td>\n",
       "      <td>55.10</td>\n",
       "    </tr>\n",
       "  </tbody>\n",
       "</table>\n",
       "<p>5 rows × 22 columns</p>\n",
       "</div>"
      ],
      "text/plain": [
       "year        1997  1998  1999  2000  2001  2002  2003  2004  2005  2006  ...  \\\n",
       "state                                                                   ...   \n",
       "Alabama    71.30 72.90 74.80 73.20 73.20 73.70 76.20 78.00 76.60 74.20  ...   \n",
       "Alaska     67.20 66.30 66.40 66.40 65.30 67.10 70.00 67.20 66.00 67.20  ...   \n",
       "Arizona    63.00 64.30 66.30 68.00 68.10 65.60 67.00 68.70 71.10 71.60  ...   \n",
       "Arkansas   66.70 66.70 65.60 68.90 71.20 70.30 69.60 69.10 69.20 70.80  ...   \n",
       "California 55.70 56.00 55.70 57.10 58.20 57.70 58.90 59.70 59.70 60.20  ...   \n",
       "\n",
       "year        2009  2010  2011  2012  2013  2014  2015  2016  2017  2018  \n",
       "state                                                                   \n",
       "Alabama    74.10 73.20 72.90 71.90 72.70 72.10 70.00 69.70 70.00 70.30  \n",
       "Alaska     66.80 65.70 64.40 63.70 64.60 64.90 62.30 65.20 65.50 63.70  \n",
       "Arizona    68.90 66.60 66.00 65.30 65.10 63.50 61.70 61.90 64.40 65.70  \n",
       "Arkansas   68.50 67.90 67.60 66.00 65.40 65.40 67.10 67.60 65.00 64.70  \n",
       "California 57.00 56.10 55.30 54.50 54.30 54.20 54.30 53.80 54.40 55.10  \n",
       "\n",
       "[5 rows x 22 columns]"
      ]
     },
     "execution_count": 113,
     "metadata": {},
     "output_type": "execute_result"
    }
   ],
   "source": [
    "homeownership_pivot_tran = homeownership_pivot.transpose()\n",
    "homeownership_pivot_tran.head()"
   ]
  },
  {
   "cell_type": "code",
   "execution_count": 114,
   "metadata": {},
   "outputs": [
    {
     "name": "stdout",
     "output_type": "stream",
     "text": [
      "slope: -0.000008    intercept: 69.467972\n"
     ]
    }
   ],
   "source": [
    "#linear regression for all states for year 1997 and 2018\n",
    "x = gdp_pivot_tran[1997]\n",
    "y = homeownership_pivot_tran[1997]\n",
    "slope, intercept, r_value, p_value, std_err = stats.linregress(x, y)\n",
    "print(\"slope: %f    intercept: %f\" % (slope, intercept))"
   ]
  },
  {
   "cell_type": "code",
   "execution_count": 115,
   "metadata": {},
   "outputs": [
    {
     "name": "stdout",
     "output_type": "stream",
     "text": [
      "R-squared: 0.148469\n"
     ]
    }
   ],
   "source": [
    "print(\"R-squared: %f\" % r_value**2)"
   ]
  },
  {
   "cell_type": "code",
   "execution_count": 116,
   "metadata": {},
   "outputs": [
    {
     "data": {
      "image/png": "[encoded data removed]",
      "text/plain": [
       "<Figure size 432x288 with 1 Axes>"
      ]
     },
     "metadata": {
      "needs_background": "light"
     },
     "output_type": "display_data"
    }
   ],
   "source": [
    "plt.plot(x, y, 'o', label='data')\n",
    "plt.plot(x, intercept + slope*x, 'r', label='fitted line')\n",
    "plt.title(\"GDP and Homeownership(%) Year 1997\")\n",
    "plt.xlabel(\"GDP\")\n",
    "plt.ylabel(\"Homeownership (%)\")\n",
    "plt.legend()\n",
    "plt.show()"
   ]
  },
  {
   "cell_type": "code",
   "execution_count": 117,
   "metadata": {},
   "outputs": [
    {
     "name": "stdout",
     "output_type": "stream",
     "text": [
      "slope: -0.000005    intercept: 68.663734\n"
     ]
    }
   ],
   "source": [
    "x2 = gdp_pivot_tran[2018]\n",
    "y2 = homeownership_pivot_tran[2018]\n",
    "slope, intercept, r_value, p_value, std_err = stats.linregress(x2, y2)\n",
    "print(\"slope: %f    intercept: %f\" % (slope, intercept))"
   ]
  },
  {
   "cell_type": "code",
   "execution_count": 118,
   "metadata": {},
   "outputs": [
    {
     "name": "stdout",
     "output_type": "stream",
     "text": [
      "R-squared: 0.285636\n"
     ]
    }
   ],
   "source": [
    "print(\"R-squared: %f\" % r_value**2)"
   ]
  },
  {
   "cell_type": "code",
   "execution_count": 119,
   "metadata": {},
   "outputs": [
    {
     "data": {
      "image/png": "[encoded data removed]",
      "text/plain": [
       "<Figure size 432x288 with 1 Axes>"
      ]
     },
     "metadata": {
      "needs_background": "light"
     },
     "output_type": "display_data"
    }
   ],
   "source": [
    "plt.plot(x2, y2, 'o', label='data')\n",
    "plt.plot(x2, intercept + slope*x2, 'r', label='fitted line')\n",
    "plt.title(\"GDP and Homeownership(%) Year 2018\")\n",
    "plt.xlabel(\"GDP\")\n",
    "plt.ylabel(\"Homeownership (%)\")\n",
    "plt.legend()\n",
    "plt.show()"
   ]
  },
  {
   "cell_type": "code",
   "execution_count": 120,
   "metadata": {},
   "outputs": [
    {
     "name": "stdout",
     "output_type": "stream",
     "text": [
      "slope: -0.000006    intercept: 71.866333\n"
     ]
    }
   ],
   "source": [
    "x3 = gdp_pivot_tran[2007]\n",
    "y3 = homeownership_pivot_tran[2007]\n",
    "slope, intercept, r_value, p_value, std_err = stats.linregress(x3, y3)\n",
    "print(\"slope: %f    intercept: %f\" % (slope, intercept))"
   ]
  },
  {
   "cell_type": "code",
   "execution_count": 121,
   "metadata": {},
   "outputs": [
    {
     "name": "stdout",
     "output_type": "stream",
     "text": [
      "R-squared: 0.237490\n"
     ]
    }
   ],
   "source": [
    "print(\"R-squared: %f\" % r_value**2)"
   ]
  },
  {
   "cell_type": "code",
   "execution_count": 122,
   "metadata": {},
   "outputs": [
    {
     "data": {
      "image/png": "[encoded data removed]",
      "text/plain": [
       "<Figure size 432x288 with 1 Axes>"
      ]
     },
     "metadata": {
      "needs_background": "light"
     },
     "output_type": "display_data"
    }
   ],
   "source": [
    "plt.plot(x3, y3, 'o', label='data')\n",
    "plt.plot(x3, intercept + slope*x3, 'r', label='fitted line')\n",
    "plt.title(\"GDP and Homeownership(%) Year 2007\")\n",
    "plt.xlabel(\"GDP\")\n",
    "plt.ylabel(\"Homeownership (%)\")\n",
    "plt.legend()\n",
    "plt.show()"
   ]
  },
  {
   "cell_type": "code",
   "execution_count": 123,
   "metadata": {},
   "outputs": [
    {
     "name": "stdout",
     "output_type": "stream",
     "text": [
      "slope: -0.000002    intercept: 61.466515\n"
     ]
    }
   ],
   "source": [
    "x4 = gdp_pivot[\"California\"]\n",
    "y4 = homeownership_pivot[\"California\"]\n",
    "slope, intercept, r_value, p_value, std_err = stats.linregress(x4, y4)\n",
    "print(\"slope: %f    intercept: %f\" % (slope, intercept))"
   ]
  },
  {
   "cell_type": "code",
   "execution_count": 124,
   "metadata": {},
   "outputs": [
    {
     "name": "stdout",
     "output_type": "stream",
     "text": [
      "R-squared: 0.177290\n",
      "p-value: 0.051000\n"
     ]
    }
   ],
   "source": [
    "print(\"R-squared: %f\" % r_value**2)\n",
    "print(\"p-value: %f\" % p_value)"
   ]
  },
  {
   "cell_type": "code",
   "execution_count": 125,
   "metadata": {},
   "outputs": [
    {
     "data": {
      "image/png": "[encoded data removed]",
      "text/plain": [
       "<Figure size 432x288 with 1 Axes>"
      ]
     },
     "metadata": {
      "needs_background": "light"
     },
     "output_type": "display_data"
    }
   ],
   "source": [
    "plt.plot(x4, y4, 'o', label='data')\n",
    "plt.plot(x4, intercept + slope*x4, 'r', label='fitted line')\n",
    "plt.title(\"GDP and Homeownership(%) in California 1997-2018\")\n",
    "plt.xlabel(\"GDP\")\n",
    "plt.ylabel(\"Homeownership (%)\")\n",
    "plt.legend()\n",
    "plt.show()"
   ]
  },
  {
   "cell_type": "code",
   "execution_count": 126,
   "metadata": {},
   "outputs": [
    {
     "name": "stdout",
     "output_type": "stream",
     "text": [
      "slope: -0.000002    intercept: 65.802931\n"
     ]
    }
   ],
   "source": [
    "x5 = gdp_pivot[\"Texas\"]\n",
    "y5 = homeownership_pivot[\"Texas\"]\n",
    "slope, intercept, r_value, p_value, std_err = stats.linregress(x5, y5)\n",
    "print(\"slope: %f    intercept: %f\" % (slope, intercept))"
   ]
  },
  {
   "cell_type": "code",
   "execution_count": 127,
   "metadata": {},
   "outputs": [
    {
     "name": "stdout",
     "output_type": "stream",
     "text": [
      "R-squared: 0.062314\n",
      "p-value: 0.262560\n"
     ]
    }
   ],
   "source": [
    "print(\"R-squared: %f\" % r_value**2)\n",
    "print(\"p-value: %f\" % p_value)"
   ]
  },
  {
   "cell_type": "code",
   "execution_count": 128,
   "metadata": {},
   "outputs": [
    {
     "data": {
      "image/png": "[encoded data removed]",
      "text/plain": [
       "<Figure size 432x288 with 1 Axes>"
      ]
     },
     "metadata": {
      "needs_background": "light"
     },
     "output_type": "display_data"
    }
   ],
   "source": [
    "plt.plot(x5, y5, 'o', label='data')\n",
    "plt.plot(x5, intercept + slope*x5, 'r', label='fitted line')\n",
    "plt.title(\"GDP and Homeownership(%) in Texas 1997-2018\")\n",
    "plt.xlabel(\"GDP\")\n",
    "plt.ylabel(\"Homeownership (%)\")\n",
    "plt.legend()\n",
    "plt.show()"
   ]
  },
  {
   "cell_type": "code",
   "execution_count": 129,
   "metadata": {},
   "outputs": [
    {
     "name": "stdout",
     "output_type": "stream",
     "text": [
      "slope: -0.000005    intercept: 59.431315\n"
     ]
    }
   ],
   "source": [
    "x6 = gdp_pivot[\"New York\"]\n",
    "y6 = homeownership_pivot[\"New York\"]\n",
    "slope, intercept, r_value, p_value, std_err = stats.linregress(x6, y6)\n",
    "print(\"slope: %f    intercept: %f\" % (slope, intercept))"
   ]
  },
  {
   "cell_type": "code",
   "execution_count": 130,
   "metadata": {},
   "outputs": [
    {
     "name": "stdout",
     "output_type": "stream",
     "text": [
      "R-squared: 0.188488\n",
      "p-value: 0.043500\n"
     ]
    }
   ],
   "source": [
    "print(\"R-squared: %f\" % r_value**2)\n",
    "print(\"p-value: %f\" % p_value)"
   ]
  },
  {
   "cell_type": "code",
   "execution_count": 131,
   "metadata": {},
   "outputs": [
    {
     "data": {
      "image/png": "[encoded data removed]",
      "text/plain": [
       "<Figure size 432x288 with 1 Axes>"
      ]
     },
     "metadata": {
      "needs_background": "light"
     },
     "output_type": "display_data"
    }
   ],
   "source": [
    "plt.plot(x6, y6, 'o', label='data')\n",
    "plt.plot(x6, intercept + slope*x6, 'r', label='fitted line')\n",
    "plt.title(\"GDP and Homeownership(%) in New York 1997-2018\")\n",
    "plt.xlabel(\"GDP\")\n",
    "plt.ylabel(\"Homeownership (%)\")\n",
    "plt.legend()\n",
    "plt.show()"
   ]
  },
  {
   "cell_type": "code",
   "execution_count": 132,
   "metadata": {},
   "outputs": [
    {
     "name": "stdout",
     "output_type": "stream",
     "text": [
      "slope: 0.000202    intercept: 66.895472\n"
     ]
    }
   ],
   "source": [
    "x7 = gdp_pivot[\"Vermont\"]\n",
    "y7 = homeownership_pivot[\"Vermont\"]\n",
    "slope, intercept, r_value, p_value, std_err = stats.linregress(x7, y7)\n",
    "print(\"slope: %f    intercept: %f\" % (slope, intercept))"
   ]
  },
  {
   "cell_type": "code",
   "execution_count": 133,
   "metadata": {},
   "outputs": [
    {
     "name": "stdout",
     "output_type": "stream",
     "text": [
      "R-squared: 0.334761\n",
      "p-value: 0.004788\n"
     ]
    }
   ],
   "source": [
    "print(\"R-squared: %f\" % r_value**2)\n",
    "print(\"p-value: %f\" % p_value)"
   ]
  },
  {
   "cell_type": "code",
   "execution_count": 134,
   "metadata": {},
   "outputs": [
    {
     "data": {
      "image/png": "[encoded data removed]",
      "text/plain": [
       "<Figure size 432x288 with 1 Axes>"
      ]
     },
     "metadata": {
      "needs_background": "light"
     },
     "output_type": "display_data"
    }
   ],
   "source": [
    "plt.plot(x7, y7, 'o', label='data')\n",
    "plt.plot(x7, intercept + slope*x7, 'r', label='fitted line')\n",
    "plt.title(\"GDP and Homeownership(%) in Vermont 1997-2018\")\n",
    "plt.xlabel(\"GDP\")\n",
    "plt.ylabel(\"Homeownership (%)\")\n",
    "plt.legend()\n",
    "plt.show()"
   ]
  },
  {
   "cell_type": "code",
   "execution_count": 135,
   "metadata": {},
   "outputs": [
    {
     "name": "stdout",
     "output_type": "stream",
     "text": [
      "slope: 0.000026    intercept: 70.811250\n"
     ]
    }
   ],
   "source": [
    "x8 = gdp_pivot[\"Wyoming\"]\n",
    "y8 = homeownership_pivot[\"Wyoming\"]\n",
    "slope, intercept, r_value, p_value, std_err = stats.linregress(x8, y8)\n",
    "print(\"slope: %f    intercept: %f\" % (slope, intercept))"
   ]
  },
  {
   "cell_type": "code",
   "execution_count": 136,
   "metadata": {},
   "outputs": [
    {
     "name": "stdout",
     "output_type": "stream",
     "text": [
      "R-squared: 0.023162\n",
      "p-value: 0.498957\n"
     ]
    }
   ],
   "source": [
    "print(\"R-squared: %f\" % r_value**2)\n",
    "print(\"p-value: %f\" % p_value)"
   ]
  },
  {
   "cell_type": "code",
   "execution_count": 137,
   "metadata": {},
   "outputs": [
    {
     "data": {
      "image/png": "[encoded data removed]",
      "text/plain": [
       "<Figure size 432x288 with 1 Axes>"
      ]
     },
     "metadata": {
      "needs_background": "light"
     },
     "output_type": "display_data"
    }
   ],
   "source": [
    "plt.plot(x8, y8, 'o', label='data')\n",
    "plt.plot(x8, intercept + slope*x8, 'r', label='fitted line')\n",
    "plt.title(\"GDP and Homeownership(%) in Wyoming 1997-2018\")\n",
    "plt.xlabel(\"GDP\")\n",
    "plt.ylabel(\"Homeownership (%)\")\n",
    "plt.legend()\n",
    "plt.show()"
   ]
  },
  {
   "cell_type": "code",
   "execution_count": 138,
   "metadata": {},
   "outputs": [
    {
     "name": "stdout",
     "output_type": "stream",
     "text": [
      "slope: -0.000193    intercept: 74.056012\n"
     ]
    }
   ],
   "source": [
    "x9 = gdp_pivot[\"North Dakota\"]\n",
    "y9 = homeownership_pivot[\"North Dakota\"]\n",
    "slope, intercept, r_value, p_value, std_err = stats.linregress(x9, y9)\n",
    "print(\"slope: %f    intercept: %f\" % (slope, intercept))"
   ]
  },
  {
   "cell_type": "code",
   "execution_count": 139,
   "metadata": {},
   "outputs": [
    {
     "name": "stdout",
     "output_type": "stream",
     "text": [
      "R-squared: 0.624131\n",
      "p-value: 0.000012\n"
     ]
    }
   ],
   "source": [
    "print(\"R-squared: %f\" % r_value**2)\n",
    "print(\"p-value: %f\" % p_value)"
   ]
  },
  {
   "cell_type": "code",
   "execution_count": 140,
   "metadata": {},
   "outputs": [
    {
     "data": {
      "image/png": "[encoded data removed]",
      "text/plain": [
       "<Figure size 432x288 with 1 Axes>"
      ]
     },
     "metadata": {
      "needs_background": "light"
     },
     "output_type": "display_data"
    }
   ],
   "source": [
    "plt.plot(x9, y9, 'o', label='data')\n",
    "plt.plot(x9, intercept + slope*x9, 'r', label='fitted line')\n",
    "plt.title(\"GDP and Homeownership(%) in North Dakota 1997-2018\")\n",
    "plt.xlabel(\"GDP\")\n",
    "plt.ylabel(\"Homeownership (%)\")\n",
    "plt.legend()\n",
    "plt.show()"
   ]
  },
  {
   "cell_type": "code",
   "execution_count": 141,
   "metadata": {},
   "outputs": [
    {
     "name": "stdout",
     "output_type": "stream",
     "text": [
      "slope: -0.000323    intercept: 70.661077\n"
     ]
    }
   ],
   "source": [
    "x10 = csv[\"population(thousands)\"]\n",
    "y10 = csv[\"homeownership(%)\"]\n",
    "slope, intercept, r_value, p_value, std_err = stats.linregress(x10, y10)\n",
    "print(\"slope: %f    intercept: %f\" % (slope, intercept))"
   ]
  },
  {
   "cell_type": "code",
   "execution_count": 142,
   "metadata": {},
   "outputs": [
    {
     "name": "stdout",
     "output_type": "stream",
     "text": [
      "R-squared: 0.167275\n",
      "p-value:0.000000\n"
     ]
    }
   ],
   "source": [
    "print(\"R-squared: %f\" % r_value**2)\n",
    "print(\"p-value:%f\" % p_value)"
   ]
  },
  {
   "cell_type": "code",
   "execution_count": 143,
   "metadata": {},
   "outputs": [
    {
     "data": {
      "image/png": "[encoded data removed]",
      "text/plain": [
       "<Figure size 432x288 with 1 Axes>"
      ]
     },
     "metadata": {
      "needs_background": "light"
     },
     "output_type": "display_data"
    }
   ],
   "source": [
    "plt.plot(x10, y10, 'o', label='data')\n",
    "plt.plot(x10, intercept + slope*x10, 'r', label='fitted line')\n",
    "plt.title(\"Homeownership and Population\")\n",
    "plt.xlabel(\"Population (Thousands)\")\n",
    "plt.ylabel(\"Homeownership(%)\")\n",
    "plt.legend()\n",
    "plt.show()"
   ]
  },
  {
   "cell_type": "code",
   "execution_count": 144,
   "metadata": {},
   "outputs": [
    {
     "name": "stdout",
     "output_type": "stream",
     "text": [
      "slope: -0.017029    intercept: 74.041632\n"
     ]
    }
   ],
   "source": [
    "x11 = csv[\"avg house data\"]\n",
    "y11 = csv[\"homeownership(%)\"]\n",
    "slope, intercept, r_value, p_value, std_err = stats.linregress(x11, y11)\n",
    "print(\"slope: %f    intercept: %f\" % (slope, intercept))"
   ]
  },
  {
   "cell_type": "code",
   "execution_count": 145,
   "metadata": {},
   "outputs": [
    {
     "name": "stdout",
     "output_type": "stream",
     "text": [
      "R-squared: 0.129775\n",
      "p-value:0.000000\n"
     ]
    }
   ],
   "source": [
    "print(\"R-squared: %f\" % r_value**2)\n",
    "print(\"p-value:%f\" % p_value)"
   ]
  },
  {
   "cell_type": "code",
   "execution_count": 146,
   "metadata": {},
   "outputs": [
    {
     "data": {
      "image/png": "[encoded data removed]",
      "text/plain": [
       "<Figure size 432x288 with 1 Axes>"
      ]
     },
     "metadata": {
      "needs_background": "light"
     },
     "output_type": "display_data"
    }
   ],
   "source": [
    "plt.plot(x11, y11, 'o', label='data')\n",
    "plt.plot(x11, intercept + slope*x11, 'r', label='fitted line')\n",
    "plt.title(\"Homeownership and Avg House Price\")\n",
    "plt.xlabel(\"Avg House Price\")\n",
    "plt.ylabel(\"Homeownership(%)\")\n",
    "plt.legend()\n",
    "plt.show()"
   ]
  },
  {
   "cell_type": "code",
   "execution_count": null,
   "metadata": {},
   "outputs": [],
   "source": []
  },
  {
   "cell_type": "code",
   "execution_count": null,
   "metadata": {},
   "outputs": [],
   "source": []
  }
 ],
 "metadata": {
  "kernelspec": {
   "display_name": "Python 3",
   "language": "python",
   "name": "python3"
  },
  "language_info": {
   "codemirror_mode": {
    "name": "ipython",
    "version": 3
   },
   "file_extension": ".py",
   "mimetype": "text/x-python",
   "name": "python",
   "nbconvert_exporter": "python",
   "pygments_lexer": "ipython3",
   "version": "3.7.3"
  }
 },
 "nbformat": 4,
 "nbformat_minor": 2
}
